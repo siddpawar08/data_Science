{
  "nbformat": 4,
  "nbformat_minor": 0,
  "metadata": {
    "colab": {
      "provenance": []
    },
    "kernelspec": {
      "name": "python3",
      "display_name": "Python 3"
    },
    "language_info": {
      "name": "python"
    }
  },
  "cells": [
    {
      "cell_type": "code",
      "execution_count": 2,
      "metadata": {
        "id": "xMr-NGE_tlrS"
      },
      "outputs": [],
      "source": [
        "import pandas as pd\n",
        "import numpy as np"
      ]
    },
    {
      "cell_type": "code",
      "source": [
        "df=pd.read_csv(\"/content/UberDataset.csv\")"
      ],
      "metadata": {
        "id": "6S3hYqkxzI76"
      },
      "execution_count": 3,
      "outputs": []
    },
    {
      "cell_type": "code",
      "source": [
        "df.head()"
      ],
      "metadata": {
        "colab": {
          "base_uri": "https://localhost:8080/",
          "height": 206
        },
        "id": "DJg129M_zNRw",
        "outputId": "b5e2ffd8-6455-4e49-a832-2500bd956858"
      },
      "execution_count": 4,
      "outputs": [
        {
          "output_type": "execute_result",
          "data": {
            "text/plain": [
              "         START_DATE          END_DATE  CATEGORY        START             STOP  \\\n",
              "0  01-01-2016 21:11  01-01-2016 21:17  Business  Fort Pierce      Fort Pierce   \n",
              "1  01-02-2016 01:25  01-02-2016 01:37  Business  Fort Pierce      Fort Pierce   \n",
              "2  01-02-2016 20:25  01-02-2016 20:38  Business  Fort Pierce      Fort Pierce   \n",
              "3  01-05-2016 17:31  01-05-2016 17:45  Business  Fort Pierce      Fort Pierce   \n",
              "4  01-06-2016 14:42  01-06-2016 15:49  Business  Fort Pierce  West Palm Beach   \n",
              "\n",
              "   MILES          PURPOSE  \n",
              "0    5.1   Meal/Entertain  \n",
              "1    5.0              NaN  \n",
              "2    4.8  Errand/Supplies  \n",
              "3    4.7          Meeting  \n",
              "4   63.7   Customer Visit  "
            ],
            "text/html": [
              "\n",
              "  <div id=\"df-394a0c4c-265d-4cba-99c5-1df90ef8608f\" class=\"colab-df-container\">\n",
              "    <div>\n",
              "<style scoped>\n",
              "    .dataframe tbody tr th:only-of-type {\n",
              "        vertical-align: middle;\n",
              "    }\n",
              "\n",
              "    .dataframe tbody tr th {\n",
              "        vertical-align: top;\n",
              "    }\n",
              "\n",
              "    .dataframe thead th {\n",
              "        text-align: right;\n",
              "    }\n",
              "</style>\n",
              "<table border=\"1\" class=\"dataframe\">\n",
              "  <thead>\n",
              "    <tr style=\"text-align: right;\">\n",
              "      <th></th>\n",
              "      <th>START_DATE</th>\n",
              "      <th>END_DATE</th>\n",
              "      <th>CATEGORY</th>\n",
              "      <th>START</th>\n",
              "      <th>STOP</th>\n",
              "      <th>MILES</th>\n",
              "      <th>PURPOSE</th>\n",
              "    </tr>\n",
              "  </thead>\n",
              "  <tbody>\n",
              "    <tr>\n",
              "      <th>0</th>\n",
              "      <td>01-01-2016 21:11</td>\n",
              "      <td>01-01-2016 21:17</td>\n",
              "      <td>Business</td>\n",
              "      <td>Fort Pierce</td>\n",
              "      <td>Fort Pierce</td>\n",
              "      <td>5.1</td>\n",
              "      <td>Meal/Entertain</td>\n",
              "    </tr>\n",
              "    <tr>\n",
              "      <th>1</th>\n",
              "      <td>01-02-2016 01:25</td>\n",
              "      <td>01-02-2016 01:37</td>\n",
              "      <td>Business</td>\n",
              "      <td>Fort Pierce</td>\n",
              "      <td>Fort Pierce</td>\n",
              "      <td>5.0</td>\n",
              "      <td>NaN</td>\n",
              "    </tr>\n",
              "    <tr>\n",
              "      <th>2</th>\n",
              "      <td>01-02-2016 20:25</td>\n",
              "      <td>01-02-2016 20:38</td>\n",
              "      <td>Business</td>\n",
              "      <td>Fort Pierce</td>\n",
              "      <td>Fort Pierce</td>\n",
              "      <td>4.8</td>\n",
              "      <td>Errand/Supplies</td>\n",
              "    </tr>\n",
              "    <tr>\n",
              "      <th>3</th>\n",
              "      <td>01-05-2016 17:31</td>\n",
              "      <td>01-05-2016 17:45</td>\n",
              "      <td>Business</td>\n",
              "      <td>Fort Pierce</td>\n",
              "      <td>Fort Pierce</td>\n",
              "      <td>4.7</td>\n",
              "      <td>Meeting</td>\n",
              "    </tr>\n",
              "    <tr>\n",
              "      <th>4</th>\n",
              "      <td>01-06-2016 14:42</td>\n",
              "      <td>01-06-2016 15:49</td>\n",
              "      <td>Business</td>\n",
              "      <td>Fort Pierce</td>\n",
              "      <td>West Palm Beach</td>\n",
              "      <td>63.7</td>\n",
              "      <td>Customer Visit</td>\n",
              "    </tr>\n",
              "  </tbody>\n",
              "</table>\n",
              "</div>\n",
              "    <div class=\"colab-df-buttons\">\n",
              "\n",
              "  <div class=\"colab-df-container\">\n",
              "    <button class=\"colab-df-convert\" onclick=\"convertToInteractive('df-394a0c4c-265d-4cba-99c5-1df90ef8608f')\"\n",
              "            title=\"Convert this dataframe to an interactive table.\"\n",
              "            style=\"display:none;\">\n",
              "\n",
              "  <svg xmlns=\"http://www.w3.org/2000/svg\" height=\"24px\" viewBox=\"0 -960 960 960\">\n",
              "    <path d=\"M120-120v-720h720v720H120Zm60-500h600v-160H180v160Zm220 220h160v-160H400v160Zm0 220h160v-160H400v160ZM180-400h160v-160H180v160Zm440 0h160v-160H620v160ZM180-180h160v-160H180v160Zm440 0h160v-160H620v160Z\"/>\n",
              "  </svg>\n",
              "    </button>\n",
              "\n",
              "  <style>\n",
              "    .colab-df-container {\n",
              "      display:flex;\n",
              "      gap: 12px;\n",
              "    }\n",
              "\n",
              "    .colab-df-convert {\n",
              "      background-color: #E8F0FE;\n",
              "      border: none;\n",
              "      border-radius: 50%;\n",
              "      cursor: pointer;\n",
              "      display: none;\n",
              "      fill: #1967D2;\n",
              "      height: 32px;\n",
              "      padding: 0 0 0 0;\n",
              "      width: 32px;\n",
              "    }\n",
              "\n",
              "    .colab-df-convert:hover {\n",
              "      background-color: #E2EBFA;\n",
              "      box-shadow: 0px 1px 2px rgba(60, 64, 67, 0.3), 0px 1px 3px 1px rgba(60, 64, 67, 0.15);\n",
              "      fill: #174EA6;\n",
              "    }\n",
              "\n",
              "    .colab-df-buttons div {\n",
              "      margin-bottom: 4px;\n",
              "    }\n",
              "\n",
              "    [theme=dark] .colab-df-convert {\n",
              "      background-color: #3B4455;\n",
              "      fill: #D2E3FC;\n",
              "    }\n",
              "\n",
              "    [theme=dark] .colab-df-convert:hover {\n",
              "      background-color: #434B5C;\n",
              "      box-shadow: 0px 1px 3px 1px rgba(0, 0, 0, 0.15);\n",
              "      filter: drop-shadow(0px 1px 2px rgba(0, 0, 0, 0.3));\n",
              "      fill: #FFFFFF;\n",
              "    }\n",
              "  </style>\n",
              "\n",
              "    <script>\n",
              "      const buttonEl =\n",
              "        document.querySelector('#df-394a0c4c-265d-4cba-99c5-1df90ef8608f button.colab-df-convert');\n",
              "      buttonEl.style.display =\n",
              "        google.colab.kernel.accessAllowed ? 'block' : 'none';\n",
              "\n",
              "      async function convertToInteractive(key) {\n",
              "        const element = document.querySelector('#df-394a0c4c-265d-4cba-99c5-1df90ef8608f');\n",
              "        const dataTable =\n",
              "          await google.colab.kernel.invokeFunction('convertToInteractive',\n",
              "                                                    [key], {});\n",
              "        if (!dataTable) return;\n",
              "\n",
              "        const docLinkHtml = 'Like what you see? Visit the ' +\n",
              "          '<a target=\"_blank\" href=https://colab.research.google.com/notebooks/data_table.ipynb>data table notebook</a>'\n",
              "          + ' to learn more about interactive tables.';\n",
              "        element.innerHTML = '';\n",
              "        dataTable['output_type'] = 'display_data';\n",
              "        await google.colab.output.renderOutput(dataTable, element);\n",
              "        const docLink = document.createElement('div');\n",
              "        docLink.innerHTML = docLinkHtml;\n",
              "        element.appendChild(docLink);\n",
              "      }\n",
              "    </script>\n",
              "  </div>\n",
              "\n",
              "\n",
              "<div id=\"df-0ce9f1ad-d316-4056-8200-e45bf96b1ef7\">\n",
              "  <button class=\"colab-df-quickchart\" onclick=\"quickchart('df-0ce9f1ad-d316-4056-8200-e45bf96b1ef7')\"\n",
              "            title=\"Suggest charts\"\n",
              "            style=\"display:none;\">\n",
              "\n",
              "<svg xmlns=\"http://www.w3.org/2000/svg\" height=\"24px\"viewBox=\"0 0 24 24\"\n",
              "     width=\"24px\">\n",
              "    <g>\n",
              "        <path d=\"M19 3H5c-1.1 0-2 .9-2 2v14c0 1.1.9 2 2 2h14c1.1 0 2-.9 2-2V5c0-1.1-.9-2-2-2zM9 17H7v-7h2v7zm4 0h-2V7h2v10zm4 0h-2v-4h2v4z\"/>\n",
              "    </g>\n",
              "</svg>\n",
              "  </button>\n",
              "\n",
              "<style>\n",
              "  .colab-df-quickchart {\n",
              "      --bg-color: #E8F0FE;\n",
              "      --fill-color: #1967D2;\n",
              "      --hover-bg-color: #E2EBFA;\n",
              "      --hover-fill-color: #174EA6;\n",
              "      --disabled-fill-color: #AAA;\n",
              "      --disabled-bg-color: #DDD;\n",
              "  }\n",
              "\n",
              "  [theme=dark] .colab-df-quickchart {\n",
              "      --bg-color: #3B4455;\n",
              "      --fill-color: #D2E3FC;\n",
              "      --hover-bg-color: #434B5C;\n",
              "      --hover-fill-color: #FFFFFF;\n",
              "      --disabled-bg-color: #3B4455;\n",
              "      --disabled-fill-color: #666;\n",
              "  }\n",
              "\n",
              "  .colab-df-quickchart {\n",
              "    background-color: var(--bg-color);\n",
              "    border: none;\n",
              "    border-radius: 50%;\n",
              "    cursor: pointer;\n",
              "    display: none;\n",
              "    fill: var(--fill-color);\n",
              "    height: 32px;\n",
              "    padding: 0;\n",
              "    width: 32px;\n",
              "  }\n",
              "\n",
              "  .colab-df-quickchart:hover {\n",
              "    background-color: var(--hover-bg-color);\n",
              "    box-shadow: 0 1px 2px rgba(60, 64, 67, 0.3), 0 1px 3px 1px rgba(60, 64, 67, 0.15);\n",
              "    fill: var(--button-hover-fill-color);\n",
              "  }\n",
              "\n",
              "  .colab-df-quickchart-complete:disabled,\n",
              "  .colab-df-quickchart-complete:disabled:hover {\n",
              "    background-color: var(--disabled-bg-color);\n",
              "    fill: var(--disabled-fill-color);\n",
              "    box-shadow: none;\n",
              "  }\n",
              "\n",
              "  .colab-df-spinner {\n",
              "    border: 2px solid var(--fill-color);\n",
              "    border-color: transparent;\n",
              "    border-bottom-color: var(--fill-color);\n",
              "    animation:\n",
              "      spin 1s steps(1) infinite;\n",
              "  }\n",
              "\n",
              "  @keyframes spin {\n",
              "    0% {\n",
              "      border-color: transparent;\n",
              "      border-bottom-color: var(--fill-color);\n",
              "      border-left-color: var(--fill-color);\n",
              "    }\n",
              "    20% {\n",
              "      border-color: transparent;\n",
              "      border-left-color: var(--fill-color);\n",
              "      border-top-color: var(--fill-color);\n",
              "    }\n",
              "    30% {\n",
              "      border-color: transparent;\n",
              "      border-left-color: var(--fill-color);\n",
              "      border-top-color: var(--fill-color);\n",
              "      border-right-color: var(--fill-color);\n",
              "    }\n",
              "    40% {\n",
              "      border-color: transparent;\n",
              "      border-right-color: var(--fill-color);\n",
              "      border-top-color: var(--fill-color);\n",
              "    }\n",
              "    60% {\n",
              "      border-color: transparent;\n",
              "      border-right-color: var(--fill-color);\n",
              "    }\n",
              "    80% {\n",
              "      border-color: transparent;\n",
              "      border-right-color: var(--fill-color);\n",
              "      border-bottom-color: var(--fill-color);\n",
              "    }\n",
              "    90% {\n",
              "      border-color: transparent;\n",
              "      border-bottom-color: var(--fill-color);\n",
              "    }\n",
              "  }\n",
              "</style>\n",
              "\n",
              "  <script>\n",
              "    async function quickchart(key) {\n",
              "      const quickchartButtonEl =\n",
              "        document.querySelector('#' + key + ' button');\n",
              "      quickchartButtonEl.disabled = true;  // To prevent multiple clicks.\n",
              "      quickchartButtonEl.classList.add('colab-df-spinner');\n",
              "      try {\n",
              "        const charts = await google.colab.kernel.invokeFunction(\n",
              "            'suggestCharts', [key], {});\n",
              "      } catch (error) {\n",
              "        console.error('Error during call to suggestCharts:', error);\n",
              "      }\n",
              "      quickchartButtonEl.classList.remove('colab-df-spinner');\n",
              "      quickchartButtonEl.classList.add('colab-df-quickchart-complete');\n",
              "    }\n",
              "    (() => {\n",
              "      let quickchartButtonEl =\n",
              "        document.querySelector('#df-0ce9f1ad-d316-4056-8200-e45bf96b1ef7 button');\n",
              "      quickchartButtonEl.style.display =\n",
              "        google.colab.kernel.accessAllowed ? 'block' : 'none';\n",
              "    })();\n",
              "  </script>\n",
              "</div>\n",
              "\n",
              "    </div>\n",
              "  </div>\n"
            ],
            "application/vnd.google.colaboratory.intrinsic+json": {
              "type": "dataframe",
              "variable_name": "df",
              "summary": "{\n  \"name\": \"df\",\n  \"rows\": 1156,\n  \"fields\": [\n    {\n      \"column\": \"START_DATE\",\n      \"properties\": {\n        \"dtype\": \"string\",\n        \"num_unique_values\": 1155,\n        \"samples\": [\n          \"11/15/2016 14:09\",\n          \"3/23/2016 14:53\",\n          \"2/16/2016 8:29\"\n        ],\n        \"semantic_type\": \"\",\n        \"description\": \"\"\n      }\n    },\n    {\n      \"column\": \"END_DATE\",\n      \"properties\": {\n        \"dtype\": \"string\",\n        \"num_unique_values\": 1154,\n        \"samples\": [\n          \"9/20/2016 11:48\",\n          \"6/24/2016 12:37\",\n          \"10-06-2016 17:40\"\n        ],\n        \"semantic_type\": \"\",\n        \"description\": \"\"\n      }\n    },\n    {\n      \"column\": \"CATEGORY\",\n      \"properties\": {\n        \"dtype\": \"category\",\n        \"num_unique_values\": 2,\n        \"samples\": [\n          \"Personal\",\n          \"Business\"\n        ],\n        \"semantic_type\": \"\",\n        \"description\": \"\"\n      }\n    },\n    {\n      \"column\": \"START\",\n      \"properties\": {\n        \"dtype\": \"category\",\n        \"num_unique_values\": 177,\n        \"samples\": [\n          \"Farmington Woods\",\n          \"Westpark Place\"\n        ],\n        \"semantic_type\": \"\",\n        \"description\": \"\"\n      }\n    },\n    {\n      \"column\": \"STOP\",\n      \"properties\": {\n        \"dtype\": \"category\",\n        \"num_unique_values\": 188,\n        \"samples\": [\n          \"Fuquay-Varina\",\n          \"Bryson City\"\n        ],\n        \"semantic_type\": \"\",\n        \"description\": \"\"\n      }\n    },\n    {\n      \"column\": \"MILES\",\n      \"properties\": {\n        \"dtype\": \"number\",\n        \"std\": 359.29900739506587,\n        \"min\": 0.5,\n        \"max\": 12204.7,\n        \"num_unique_values\": 257,\n        \"samples\": [\n          9.8,\n          0.6\n        ],\n        \"semantic_type\": \"\",\n        \"description\": \"\"\n      }\n    },\n    {\n      \"column\": \"PURPOSE\",\n      \"properties\": {\n        \"dtype\": \"category\",\n        \"num_unique_values\": 10,\n        \"samples\": [\n          \"Moving\",\n          \"Errand/Supplies\"\n        ],\n        \"semantic_type\": \"\",\n        \"description\": \"\"\n      }\n    }\n  ]\n}"
            }
          },
          "metadata": {},
          "execution_count": 4
        }
      ]
    },
    {
      "cell_type": "code",
      "source": [
        "df.shape"
      ],
      "metadata": {
        "colab": {
          "base_uri": "https://localhost:8080/"
        },
        "id": "0xvyfvuhzP2u",
        "outputId": "56108d9d-8cb1-4e2b-9da9-5cdf5a6f3873"
      },
      "execution_count": 5,
      "outputs": [
        {
          "output_type": "execute_result",
          "data": {
            "text/plain": [
              "(1156, 7)"
            ]
          },
          "metadata": {},
          "execution_count": 5
        }
      ]
    },
    {
      "cell_type": "markdown",
      "source": [
        "the data contains 1156 rows and 7 columns"
      ],
      "metadata": {
        "id": "zYOyIK_MzTh7"
      }
    },
    {
      "cell_type": "code",
      "source": [
        "df.info()"
      ],
      "metadata": {
        "colab": {
          "base_uri": "https://localhost:8080/"
        },
        "id": "9Qo_iOCmzSlw",
        "outputId": "2126e410-8b9d-405e-b8bb-21c9670dbeda"
      },
      "execution_count": 6,
      "outputs": [
        {
          "output_type": "stream",
          "name": "stdout",
          "text": [
            "<class 'pandas.core.frame.DataFrame'>\n",
            "RangeIndex: 1156 entries, 0 to 1155\n",
            "Data columns (total 7 columns):\n",
            " #   Column      Non-Null Count  Dtype  \n",
            "---  ------      --------------  -----  \n",
            " 0   START_DATE  1156 non-null   object \n",
            " 1   END_DATE    1155 non-null   object \n",
            " 2   CATEGORY    1155 non-null   object \n",
            " 3   START       1155 non-null   object \n",
            " 4   STOP        1155 non-null   object \n",
            " 5   MILES       1156 non-null   float64\n",
            " 6   PURPOSE     653 non-null    object \n",
            "dtypes: float64(1), object(6)\n",
            "memory usage: 63.3+ KB\n"
          ]
        }
      ]
    },
    {
      "cell_type": "code",
      "source": [
        "df.isna().sum()"
      ],
      "metadata": {
        "colab": {
          "base_uri": "https://localhost:8080/",
          "height": 304
        },
        "id": "eck62SjjzY95",
        "outputId": "72aa04d5-bfd8-49c4-d7f9-5b5c642d2d9c"
      },
      "execution_count": 7,
      "outputs": [
        {
          "output_type": "execute_result",
          "data": {
            "text/plain": [
              "START_DATE      0\n",
              "END_DATE        1\n",
              "CATEGORY        1\n",
              "START           1\n",
              "STOP            1\n",
              "MILES           0\n",
              "PURPOSE       503\n",
              "dtype: int64"
            ],
            "text/html": [
              "<div>\n",
              "<style scoped>\n",
              "    .dataframe tbody tr th:only-of-type {\n",
              "        vertical-align: middle;\n",
              "    }\n",
              "\n",
              "    .dataframe tbody tr th {\n",
              "        vertical-align: top;\n",
              "    }\n",
              "\n",
              "    .dataframe thead th {\n",
              "        text-align: right;\n",
              "    }\n",
              "</style>\n",
              "<table border=\"1\" class=\"dataframe\">\n",
              "  <thead>\n",
              "    <tr style=\"text-align: right;\">\n",
              "      <th></th>\n",
              "      <th>0</th>\n",
              "    </tr>\n",
              "  </thead>\n",
              "  <tbody>\n",
              "    <tr>\n",
              "      <th>START_DATE</th>\n",
              "      <td>0</td>\n",
              "    </tr>\n",
              "    <tr>\n",
              "      <th>END_DATE</th>\n",
              "      <td>1</td>\n",
              "    </tr>\n",
              "    <tr>\n",
              "      <th>CATEGORY</th>\n",
              "      <td>1</td>\n",
              "    </tr>\n",
              "    <tr>\n",
              "      <th>START</th>\n",
              "      <td>1</td>\n",
              "    </tr>\n",
              "    <tr>\n",
              "      <th>STOP</th>\n",
              "      <td>1</td>\n",
              "    </tr>\n",
              "    <tr>\n",
              "      <th>MILES</th>\n",
              "      <td>0</td>\n",
              "    </tr>\n",
              "    <tr>\n",
              "      <th>PURPOSE</th>\n",
              "      <td>503</td>\n",
              "    </tr>\n",
              "  </tbody>\n",
              "</table>\n",
              "</div><br><label><b>dtype:</b> int64</label>"
            ]
          },
          "metadata": {},
          "execution_count": 7
        }
      ]
    },
    {
      "cell_type": "markdown",
      "source": [
        "lets drop row where end date is na"
      ],
      "metadata": {
        "id": "m9Agrri9zrvA"
      }
    },
    {
      "cell_type": "code",
      "source": [
        "df[ df['END_DATE'].isna() ].index"
      ],
      "metadata": {
        "colab": {
          "base_uri": "https://localhost:8080/"
        },
        "id": "0gvxvIDnzlqT",
        "outputId": "611a2e17-cb0d-466a-d584-2bbd0e8d284d"
      },
      "execution_count": 8,
      "outputs": [
        {
          "output_type": "execute_result",
          "data": {
            "text/plain": [
              "Index([1155], dtype='int64')"
            ]
          },
          "metadata": {},
          "execution_count": 8
        }
      ]
    },
    {
      "cell_type": "code",
      "source": [
        "df.drop(1155 , axis = 0 , inplace = True) # removing the last row of the table"
      ],
      "metadata": {
        "id": "CnO2p4LQz5ce"
      },
      "execution_count": 9,
      "outputs": []
    },
    {
      "cell_type": "code",
      "source": [
        "df.info()"
      ],
      "metadata": {
        "colab": {
          "base_uri": "https://localhost:8080/"
        },
        "id": "9Btxubkg0EWd",
        "outputId": "5f81ac06-24fb-46b5-ec8e-eb8c61e18012"
      },
      "execution_count": 10,
      "outputs": [
        {
          "output_type": "stream",
          "name": "stdout",
          "text": [
            "<class 'pandas.core.frame.DataFrame'>\n",
            "RangeIndex: 1155 entries, 0 to 1154\n",
            "Data columns (total 7 columns):\n",
            " #   Column      Non-Null Count  Dtype  \n",
            "---  ------      --------------  -----  \n",
            " 0   START_DATE  1155 non-null   object \n",
            " 1   END_DATE    1155 non-null   object \n",
            " 2   CATEGORY    1155 non-null   object \n",
            " 3   START       1155 non-null   object \n",
            " 4   STOP        1155 non-null   object \n",
            " 5   MILES       1155 non-null   float64\n",
            " 6   PURPOSE     653 non-null    object \n",
            "dtypes: float64(1), object(6)\n",
            "memory usage: 63.3+ KB\n"
          ]
        }
      ]
    },
    {
      "cell_type": "code",
      "source": [],
      "metadata": {
        "id": "GfAKiUUt0KQ1"
      },
      "execution_count": 10,
      "outputs": []
    },
    {
      "cell_type": "markdown",
      "source": [
        "splitting date time column into 2 different columns"
      ],
      "metadata": {
        "id": "sDbPgpw-0RSj"
      }
    },
    {
      "cell_type": "code",
      "source": [
        "df['START_DATE']=df['START_DATE'].str.replace(\"/\",'-')"
      ],
      "metadata": {
        "id": "gTANlr6c1ka5"
      },
      "execution_count": 16,
      "outputs": []
    },
    {
      "cell_type": "code",
      "source": [
        "df['END_DATE']=df['END_DATE'].str.replace(\"/\",'-')"
      ],
      "metadata": {
        "id": "GAhbDFW__hiT"
      },
      "execution_count": 18,
      "outputs": []
    },
    {
      "cell_type": "markdown",
      "source": [
        "lets make a new column containing the duration\n",
        "\n"
      ],
      "metadata": {
        "id": "42S7bIEDVMlB"
      }
    },
    {
      "cell_type": "code",
      "source": [
        "df['START_DATE']"
      ],
      "metadata": {
        "colab": {
          "base_uri": "https://localhost:8080/",
          "height": 458
        },
        "id": "9Jpz_6O0_ro1",
        "outputId": "09347840-e354-46d4-b760-4816cef872e0"
      },
      "execution_count": 19,
      "outputs": [
        {
          "output_type": "execute_result",
          "data": {
            "text/plain": [
              "0       01-01-2016 21:11\n",
              "1       01-02-2016 01:25\n",
              "2       01-02-2016 20:25\n",
              "3       01-05-2016 17:31\n",
              "4       01-06-2016 14:42\n",
              "              ...       \n",
              "1150     12-31-2016 1:07\n",
              "1151    12-31-2016 13:24\n",
              "1152    12-31-2016 15:03\n",
              "1153    12-31-2016 21:32\n",
              "1154    12-31-2016 22:08\n",
              "Name: START_DATE, Length: 1155, dtype: object"
            ],
            "text/html": [
              "<div>\n",
              "<style scoped>\n",
              "    .dataframe tbody tr th:only-of-type {\n",
              "        vertical-align: middle;\n",
              "    }\n",
              "\n",
              "    .dataframe tbody tr th {\n",
              "        vertical-align: top;\n",
              "    }\n",
              "\n",
              "    .dataframe thead th {\n",
              "        text-align: right;\n",
              "    }\n",
              "</style>\n",
              "<table border=\"1\" class=\"dataframe\">\n",
              "  <thead>\n",
              "    <tr style=\"text-align: right;\">\n",
              "      <th></th>\n",
              "      <th>START_DATE</th>\n",
              "    </tr>\n",
              "  </thead>\n",
              "  <tbody>\n",
              "    <tr>\n",
              "      <th>0</th>\n",
              "      <td>01-01-2016 21:11</td>\n",
              "    </tr>\n",
              "    <tr>\n",
              "      <th>1</th>\n",
              "      <td>01-02-2016 01:25</td>\n",
              "    </tr>\n",
              "    <tr>\n",
              "      <th>2</th>\n",
              "      <td>01-02-2016 20:25</td>\n",
              "    </tr>\n",
              "    <tr>\n",
              "      <th>3</th>\n",
              "      <td>01-05-2016 17:31</td>\n",
              "    </tr>\n",
              "    <tr>\n",
              "      <th>4</th>\n",
              "      <td>01-06-2016 14:42</td>\n",
              "    </tr>\n",
              "    <tr>\n",
              "      <th>...</th>\n",
              "      <td>...</td>\n",
              "    </tr>\n",
              "    <tr>\n",
              "      <th>1150</th>\n",
              "      <td>12-31-2016 1:07</td>\n",
              "    </tr>\n",
              "    <tr>\n",
              "      <th>1151</th>\n",
              "      <td>12-31-2016 13:24</td>\n",
              "    </tr>\n",
              "    <tr>\n",
              "      <th>1152</th>\n",
              "      <td>12-31-2016 15:03</td>\n",
              "    </tr>\n",
              "    <tr>\n",
              "      <th>1153</th>\n",
              "      <td>12-31-2016 21:32</td>\n",
              "    </tr>\n",
              "    <tr>\n",
              "      <th>1154</th>\n",
              "      <td>12-31-2016 22:08</td>\n",
              "    </tr>\n",
              "  </tbody>\n",
              "</table>\n",
              "<p>1155 rows × 1 columns</p>\n",
              "</div><br><label><b>dtype:</b> object</label>"
            ]
          },
          "metadata": {},
          "execution_count": 19
        }
      ]
    },
    {
      "cell_type": "code",
      "source": [
        "df['END_DATE'] = pd.to_datetime(df['END_DATE'],format= '%m-%d-%Y %H:%M')"
      ],
      "metadata": {
        "id": "54Pw_KSy6A8h"
      },
      "execution_count": 20,
      "outputs": []
    },
    {
      "cell_type": "code",
      "source": [
        "df['START_DATE']=pd.to_datetime(df['START_DATE'] , format = '%m-%d-%Y %H:%M')"
      ],
      "metadata": {
        "id": "0H6ejDngWCji"
      },
      "execution_count": 21,
      "outputs": []
    },
    {
      "cell_type": "code",
      "source": [
        "df.info()"
      ],
      "metadata": {
        "colab": {
          "base_uri": "https://localhost:8080/"
        },
        "id": "TuFYZx_aADpp",
        "outputId": "fbc7c2bc-925b-4962-b344-230c2034d823"
      },
      "execution_count": 22,
      "outputs": [
        {
          "output_type": "stream",
          "name": "stdout",
          "text": [
            "<class 'pandas.core.frame.DataFrame'>\n",
            "RangeIndex: 1155 entries, 0 to 1154\n",
            "Data columns (total 7 columns):\n",
            " #   Column      Non-Null Count  Dtype         \n",
            "---  ------      --------------  -----         \n",
            " 0   START_DATE  1155 non-null   datetime64[ns]\n",
            " 1   END_DATE    1155 non-null   datetime64[ns]\n",
            " 2   CATEGORY    1155 non-null   object        \n",
            " 3   START       1155 non-null   object        \n",
            " 4   STOP        1155 non-null   object        \n",
            " 5   MILES       1155 non-null   float64       \n",
            " 6   PURPOSE     653 non-null    object        \n",
            "dtypes: datetime64[ns](2), float64(1), object(4)\n",
            "memory usage: 63.3+ KB\n"
          ]
        }
      ]
    },
    {
      "cell_type": "code",
      "source": [
        "df['DURATION']=((df['END_DATE']-df['START_DATE']).dt.total_seconds() )/ 60"
      ],
      "metadata": {
        "id": "AUT1VkeHAFzK"
      },
      "execution_count": 26,
      "outputs": []
    },
    {
      "cell_type": "code",
      "source": [
        "df"
      ],
      "metadata": {
        "colab": {
          "base_uri": "https://localhost:8080/",
          "height": 597
        },
        "id": "NnAaayBcANqx",
        "outputId": "d7ec96ac-89e5-4848-f897-e7b24050ebe7"
      },
      "execution_count": 27,
      "outputs": [
        {
          "output_type": "execute_result",
          "data": {
            "text/plain": [
              "              START_DATE            END_DATE  CATEGORY             START  \\\n",
              "0    2016-01-01 21:11:00 2016-01-01 21:17:00  Business       Fort Pierce   \n",
              "1    2016-01-02 01:25:00 2016-01-02 01:37:00  Business       Fort Pierce   \n",
              "2    2016-01-02 20:25:00 2016-01-02 20:38:00  Business       Fort Pierce   \n",
              "3    2016-01-05 17:31:00 2016-01-05 17:45:00  Business       Fort Pierce   \n",
              "4    2016-01-06 14:42:00 2016-01-06 15:49:00  Business       Fort Pierce   \n",
              "...                  ...                 ...       ...               ...   \n",
              "1150 2016-12-31 01:07:00 2016-12-31 01:14:00  Business           Kar?chi   \n",
              "1151 2016-12-31 13:24:00 2016-12-31 13:42:00  Business           Kar?chi   \n",
              "1152 2016-12-31 15:03:00 2016-12-31 15:38:00  Business  Unknown Location   \n",
              "1153 2016-12-31 21:32:00 2016-12-31 21:50:00  Business        Katunayake   \n",
              "1154 2016-12-31 22:08:00 2016-12-31 23:51:00  Business           Gampaha   \n",
              "\n",
              "                  STOP  MILES          PURPOSE  DURATION  \n",
              "0          Fort Pierce    5.1   Meal/Entertain       6.0  \n",
              "1          Fort Pierce    5.0              NaN      12.0  \n",
              "2          Fort Pierce    4.8  Errand/Supplies      13.0  \n",
              "3          Fort Pierce    4.7          Meeting      14.0  \n",
              "4      West Palm Beach   63.7   Customer Visit      67.0  \n",
              "...                ...    ...              ...       ...  \n",
              "1150           Kar?chi    0.7          Meeting       7.0  \n",
              "1151  Unknown Location    3.9   Temporary Site      18.0  \n",
              "1152  Unknown Location   16.2          Meeting      35.0  \n",
              "1153           Gampaha    6.4   Temporary Site      18.0  \n",
              "1154         Ilukwatta   48.2   Temporary Site     103.0  \n",
              "\n",
              "[1155 rows x 8 columns]"
            ],
            "text/html": [
              "\n",
              "  <div id=\"df-29a054c8-77a4-4a46-b18c-02c36ecbbe52\" class=\"colab-df-container\">\n",
              "    <div>\n",
              "<style scoped>\n",
              "    .dataframe tbody tr th:only-of-type {\n",
              "        vertical-align: middle;\n",
              "    }\n",
              "\n",
              "    .dataframe tbody tr th {\n",
              "        vertical-align: top;\n",
              "    }\n",
              "\n",
              "    .dataframe thead th {\n",
              "        text-align: right;\n",
              "    }\n",
              "</style>\n",
              "<table border=\"1\" class=\"dataframe\">\n",
              "  <thead>\n",
              "    <tr style=\"text-align: right;\">\n",
              "      <th></th>\n",
              "      <th>START_DATE</th>\n",
              "      <th>END_DATE</th>\n",
              "      <th>CATEGORY</th>\n",
              "      <th>START</th>\n",
              "      <th>STOP</th>\n",
              "      <th>MILES</th>\n",
              "      <th>PURPOSE</th>\n",
              "      <th>DURATION</th>\n",
              "    </tr>\n",
              "  </thead>\n",
              "  <tbody>\n",
              "    <tr>\n",
              "      <th>0</th>\n",
              "      <td>2016-01-01 21:11:00</td>\n",
              "      <td>2016-01-01 21:17:00</td>\n",
              "      <td>Business</td>\n",
              "      <td>Fort Pierce</td>\n",
              "      <td>Fort Pierce</td>\n",
              "      <td>5.1</td>\n",
              "      <td>Meal/Entertain</td>\n",
              "      <td>6.0</td>\n",
              "    </tr>\n",
              "    <tr>\n",
              "      <th>1</th>\n",
              "      <td>2016-01-02 01:25:00</td>\n",
              "      <td>2016-01-02 01:37:00</td>\n",
              "      <td>Business</td>\n",
              "      <td>Fort Pierce</td>\n",
              "      <td>Fort Pierce</td>\n",
              "      <td>5.0</td>\n",
              "      <td>NaN</td>\n",
              "      <td>12.0</td>\n",
              "    </tr>\n",
              "    <tr>\n",
              "      <th>2</th>\n",
              "      <td>2016-01-02 20:25:00</td>\n",
              "      <td>2016-01-02 20:38:00</td>\n",
              "      <td>Business</td>\n",
              "      <td>Fort Pierce</td>\n",
              "      <td>Fort Pierce</td>\n",
              "      <td>4.8</td>\n",
              "      <td>Errand/Supplies</td>\n",
              "      <td>13.0</td>\n",
              "    </tr>\n",
              "    <tr>\n",
              "      <th>3</th>\n",
              "      <td>2016-01-05 17:31:00</td>\n",
              "      <td>2016-01-05 17:45:00</td>\n",
              "      <td>Business</td>\n",
              "      <td>Fort Pierce</td>\n",
              "      <td>Fort Pierce</td>\n",
              "      <td>4.7</td>\n",
              "      <td>Meeting</td>\n",
              "      <td>14.0</td>\n",
              "    </tr>\n",
              "    <tr>\n",
              "      <th>4</th>\n",
              "      <td>2016-01-06 14:42:00</td>\n",
              "      <td>2016-01-06 15:49:00</td>\n",
              "      <td>Business</td>\n",
              "      <td>Fort Pierce</td>\n",
              "      <td>West Palm Beach</td>\n",
              "      <td>63.7</td>\n",
              "      <td>Customer Visit</td>\n",
              "      <td>67.0</td>\n",
              "    </tr>\n",
              "    <tr>\n",
              "      <th>...</th>\n",
              "      <td>...</td>\n",
              "      <td>...</td>\n",
              "      <td>...</td>\n",
              "      <td>...</td>\n",
              "      <td>...</td>\n",
              "      <td>...</td>\n",
              "      <td>...</td>\n",
              "      <td>...</td>\n",
              "    </tr>\n",
              "    <tr>\n",
              "      <th>1150</th>\n",
              "      <td>2016-12-31 01:07:00</td>\n",
              "      <td>2016-12-31 01:14:00</td>\n",
              "      <td>Business</td>\n",
              "      <td>Kar?chi</td>\n",
              "      <td>Kar?chi</td>\n",
              "      <td>0.7</td>\n",
              "      <td>Meeting</td>\n",
              "      <td>7.0</td>\n",
              "    </tr>\n",
              "    <tr>\n",
              "      <th>1151</th>\n",
              "      <td>2016-12-31 13:24:00</td>\n",
              "      <td>2016-12-31 13:42:00</td>\n",
              "      <td>Business</td>\n",
              "      <td>Kar?chi</td>\n",
              "      <td>Unknown Location</td>\n",
              "      <td>3.9</td>\n",
              "      <td>Temporary Site</td>\n",
              "      <td>18.0</td>\n",
              "    </tr>\n",
              "    <tr>\n",
              "      <th>1152</th>\n",
              "      <td>2016-12-31 15:03:00</td>\n",
              "      <td>2016-12-31 15:38:00</td>\n",
              "      <td>Business</td>\n",
              "      <td>Unknown Location</td>\n",
              "      <td>Unknown Location</td>\n",
              "      <td>16.2</td>\n",
              "      <td>Meeting</td>\n",
              "      <td>35.0</td>\n",
              "    </tr>\n",
              "    <tr>\n",
              "      <th>1153</th>\n",
              "      <td>2016-12-31 21:32:00</td>\n",
              "      <td>2016-12-31 21:50:00</td>\n",
              "      <td>Business</td>\n",
              "      <td>Katunayake</td>\n",
              "      <td>Gampaha</td>\n",
              "      <td>6.4</td>\n",
              "      <td>Temporary Site</td>\n",
              "      <td>18.0</td>\n",
              "    </tr>\n",
              "    <tr>\n",
              "      <th>1154</th>\n",
              "      <td>2016-12-31 22:08:00</td>\n",
              "      <td>2016-12-31 23:51:00</td>\n",
              "      <td>Business</td>\n",
              "      <td>Gampaha</td>\n",
              "      <td>Ilukwatta</td>\n",
              "      <td>48.2</td>\n",
              "      <td>Temporary Site</td>\n",
              "      <td>103.0</td>\n",
              "    </tr>\n",
              "  </tbody>\n",
              "</table>\n",
              "<p>1155 rows × 8 columns</p>\n",
              "</div>\n",
              "    <div class=\"colab-df-buttons\">\n",
              "\n",
              "  <div class=\"colab-df-container\">\n",
              "    <button class=\"colab-df-convert\" onclick=\"convertToInteractive('df-29a054c8-77a4-4a46-b18c-02c36ecbbe52')\"\n",
              "            title=\"Convert this dataframe to an interactive table.\"\n",
              "            style=\"display:none;\">\n",
              "\n",
              "  <svg xmlns=\"http://www.w3.org/2000/svg\" height=\"24px\" viewBox=\"0 -960 960 960\">\n",
              "    <path d=\"M120-120v-720h720v720H120Zm60-500h600v-160H180v160Zm220 220h160v-160H400v160Zm0 220h160v-160H400v160ZM180-400h160v-160H180v160Zm440 0h160v-160H620v160ZM180-180h160v-160H180v160Zm440 0h160v-160H620v160Z\"/>\n",
              "  </svg>\n",
              "    </button>\n",
              "\n",
              "  <style>\n",
              "    .colab-df-container {\n",
              "      display:flex;\n",
              "      gap: 12px;\n",
              "    }\n",
              "\n",
              "    .colab-df-convert {\n",
              "      background-color: #E8F0FE;\n",
              "      border: none;\n",
              "      border-radius: 50%;\n",
              "      cursor: pointer;\n",
              "      display: none;\n",
              "      fill: #1967D2;\n",
              "      height: 32px;\n",
              "      padding: 0 0 0 0;\n",
              "      width: 32px;\n",
              "    }\n",
              "\n",
              "    .colab-df-convert:hover {\n",
              "      background-color: #E2EBFA;\n",
              "      box-shadow: 0px 1px 2px rgba(60, 64, 67, 0.3), 0px 1px 3px 1px rgba(60, 64, 67, 0.15);\n",
              "      fill: #174EA6;\n",
              "    }\n",
              "\n",
              "    .colab-df-buttons div {\n",
              "      margin-bottom: 4px;\n",
              "    }\n",
              "\n",
              "    [theme=dark] .colab-df-convert {\n",
              "      background-color: #3B4455;\n",
              "      fill: #D2E3FC;\n",
              "    }\n",
              "\n",
              "    [theme=dark] .colab-df-convert:hover {\n",
              "      background-color: #434B5C;\n",
              "      box-shadow: 0px 1px 3px 1px rgba(0, 0, 0, 0.15);\n",
              "      filter: drop-shadow(0px 1px 2px rgba(0, 0, 0, 0.3));\n",
              "      fill: #FFFFFF;\n",
              "    }\n",
              "  </style>\n",
              "\n",
              "    <script>\n",
              "      const buttonEl =\n",
              "        document.querySelector('#df-29a054c8-77a4-4a46-b18c-02c36ecbbe52 button.colab-df-convert');\n",
              "      buttonEl.style.display =\n",
              "        google.colab.kernel.accessAllowed ? 'block' : 'none';\n",
              "\n",
              "      async function convertToInteractive(key) {\n",
              "        const element = document.querySelector('#df-29a054c8-77a4-4a46-b18c-02c36ecbbe52');\n",
              "        const dataTable =\n",
              "          await google.colab.kernel.invokeFunction('convertToInteractive',\n",
              "                                                    [key], {});\n",
              "        if (!dataTable) return;\n",
              "\n",
              "        const docLinkHtml = 'Like what you see? Visit the ' +\n",
              "          '<a target=\"_blank\" href=https://colab.research.google.com/notebooks/data_table.ipynb>data table notebook</a>'\n",
              "          + ' to learn more about interactive tables.';\n",
              "        element.innerHTML = '';\n",
              "        dataTable['output_type'] = 'display_data';\n",
              "        await google.colab.output.renderOutput(dataTable, element);\n",
              "        const docLink = document.createElement('div');\n",
              "        docLink.innerHTML = docLinkHtml;\n",
              "        element.appendChild(docLink);\n",
              "      }\n",
              "    </script>\n",
              "  </div>\n",
              "\n",
              "\n",
              "<div id=\"df-404b96d9-cfe5-4a2d-a402-29ea682c5125\">\n",
              "  <button class=\"colab-df-quickchart\" onclick=\"quickchart('df-404b96d9-cfe5-4a2d-a402-29ea682c5125')\"\n",
              "            title=\"Suggest charts\"\n",
              "            style=\"display:none;\">\n",
              "\n",
              "<svg xmlns=\"http://www.w3.org/2000/svg\" height=\"24px\"viewBox=\"0 0 24 24\"\n",
              "     width=\"24px\">\n",
              "    <g>\n",
              "        <path d=\"M19 3H5c-1.1 0-2 .9-2 2v14c0 1.1.9 2 2 2h14c1.1 0 2-.9 2-2V5c0-1.1-.9-2-2-2zM9 17H7v-7h2v7zm4 0h-2V7h2v10zm4 0h-2v-4h2v4z\"/>\n",
              "    </g>\n",
              "</svg>\n",
              "  </button>\n",
              "\n",
              "<style>\n",
              "  .colab-df-quickchart {\n",
              "      --bg-color: #E8F0FE;\n",
              "      --fill-color: #1967D2;\n",
              "      --hover-bg-color: #E2EBFA;\n",
              "      --hover-fill-color: #174EA6;\n",
              "      --disabled-fill-color: #AAA;\n",
              "      --disabled-bg-color: #DDD;\n",
              "  }\n",
              "\n",
              "  [theme=dark] .colab-df-quickchart {\n",
              "      --bg-color: #3B4455;\n",
              "      --fill-color: #D2E3FC;\n",
              "      --hover-bg-color: #434B5C;\n",
              "      --hover-fill-color: #FFFFFF;\n",
              "      --disabled-bg-color: #3B4455;\n",
              "      --disabled-fill-color: #666;\n",
              "  }\n",
              "\n",
              "  .colab-df-quickchart {\n",
              "    background-color: var(--bg-color);\n",
              "    border: none;\n",
              "    border-radius: 50%;\n",
              "    cursor: pointer;\n",
              "    display: none;\n",
              "    fill: var(--fill-color);\n",
              "    height: 32px;\n",
              "    padding: 0;\n",
              "    width: 32px;\n",
              "  }\n",
              "\n",
              "  .colab-df-quickchart:hover {\n",
              "    background-color: var(--hover-bg-color);\n",
              "    box-shadow: 0 1px 2px rgba(60, 64, 67, 0.3), 0 1px 3px 1px rgba(60, 64, 67, 0.15);\n",
              "    fill: var(--button-hover-fill-color);\n",
              "  }\n",
              "\n",
              "  .colab-df-quickchart-complete:disabled,\n",
              "  .colab-df-quickchart-complete:disabled:hover {\n",
              "    background-color: var(--disabled-bg-color);\n",
              "    fill: var(--disabled-fill-color);\n",
              "    box-shadow: none;\n",
              "  }\n",
              "\n",
              "  .colab-df-spinner {\n",
              "    border: 2px solid var(--fill-color);\n",
              "    border-color: transparent;\n",
              "    border-bottom-color: var(--fill-color);\n",
              "    animation:\n",
              "      spin 1s steps(1) infinite;\n",
              "  }\n",
              "\n",
              "  @keyframes spin {\n",
              "    0% {\n",
              "      border-color: transparent;\n",
              "      border-bottom-color: var(--fill-color);\n",
              "      border-left-color: var(--fill-color);\n",
              "    }\n",
              "    20% {\n",
              "      border-color: transparent;\n",
              "      border-left-color: var(--fill-color);\n",
              "      border-top-color: var(--fill-color);\n",
              "    }\n",
              "    30% {\n",
              "      border-color: transparent;\n",
              "      border-left-color: var(--fill-color);\n",
              "      border-top-color: var(--fill-color);\n",
              "      border-right-color: var(--fill-color);\n",
              "    }\n",
              "    40% {\n",
              "      border-color: transparent;\n",
              "      border-right-color: var(--fill-color);\n",
              "      border-top-color: var(--fill-color);\n",
              "    }\n",
              "    60% {\n",
              "      border-color: transparent;\n",
              "      border-right-color: var(--fill-color);\n",
              "    }\n",
              "    80% {\n",
              "      border-color: transparent;\n",
              "      border-right-color: var(--fill-color);\n",
              "      border-bottom-color: var(--fill-color);\n",
              "    }\n",
              "    90% {\n",
              "      border-color: transparent;\n",
              "      border-bottom-color: var(--fill-color);\n",
              "    }\n",
              "  }\n",
              "</style>\n",
              "\n",
              "  <script>\n",
              "    async function quickchart(key) {\n",
              "      const quickchartButtonEl =\n",
              "        document.querySelector('#' + key + ' button');\n",
              "      quickchartButtonEl.disabled = true;  // To prevent multiple clicks.\n",
              "      quickchartButtonEl.classList.add('colab-df-spinner');\n",
              "      try {\n",
              "        const charts = await google.colab.kernel.invokeFunction(\n",
              "            'suggestCharts', [key], {});\n",
              "      } catch (error) {\n",
              "        console.error('Error during call to suggestCharts:', error);\n",
              "      }\n",
              "      quickchartButtonEl.classList.remove('colab-df-spinner');\n",
              "      quickchartButtonEl.classList.add('colab-df-quickchart-complete');\n",
              "    }\n",
              "    (() => {\n",
              "      let quickchartButtonEl =\n",
              "        document.querySelector('#df-404b96d9-cfe5-4a2d-a402-29ea682c5125 button');\n",
              "      quickchartButtonEl.style.display =\n",
              "        google.colab.kernel.accessAllowed ? 'block' : 'none';\n",
              "    })();\n",
              "  </script>\n",
              "</div>\n",
              "\n",
              "  <div id=\"id_b1d4831c-7894-4d57-a410-d6113e69cf48\">\n",
              "    <style>\n",
              "      .colab-df-generate {\n",
              "        background-color: #E8F0FE;\n",
              "        border: none;\n",
              "        border-radius: 50%;\n",
              "        cursor: pointer;\n",
              "        display: none;\n",
              "        fill: #1967D2;\n",
              "        height: 32px;\n",
              "        padding: 0 0 0 0;\n",
              "        width: 32px;\n",
              "      }\n",
              "\n",
              "      .colab-df-generate:hover {\n",
              "        background-color: #E2EBFA;\n",
              "        box-shadow: 0px 1px 2px rgba(60, 64, 67, 0.3), 0px 1px 3px 1px rgba(60, 64, 67, 0.15);\n",
              "        fill: #174EA6;\n",
              "      }\n",
              "\n",
              "      [theme=dark] .colab-df-generate {\n",
              "        background-color: #3B4455;\n",
              "        fill: #D2E3FC;\n",
              "      }\n",
              "\n",
              "      [theme=dark] .colab-df-generate:hover {\n",
              "        background-color: #434B5C;\n",
              "        box-shadow: 0px 1px 3px 1px rgba(0, 0, 0, 0.15);\n",
              "        filter: drop-shadow(0px 1px 2px rgba(0, 0, 0, 0.3));\n",
              "        fill: #FFFFFF;\n",
              "      }\n",
              "    </style>\n",
              "    <button class=\"colab-df-generate\" onclick=\"generateWithVariable('df')\"\n",
              "            title=\"Generate code using this dataframe.\"\n",
              "            style=\"display:none;\">\n",
              "\n",
              "  <svg xmlns=\"http://www.w3.org/2000/svg\" height=\"24px\"viewBox=\"0 0 24 24\"\n",
              "       width=\"24px\">\n",
              "    <path d=\"M7,19H8.4L18.45,9,17,7.55,7,17.6ZM5,21V16.75L18.45,3.32a2,2,0,0,1,2.83,0l1.4,1.43a1.91,1.91,0,0,1,.58,1.4,1.91,1.91,0,0,1-.58,1.4L9.25,21ZM18.45,9,17,7.55Zm-12,3A5.31,5.31,0,0,0,4.9,8.1,5.31,5.31,0,0,0,1,6.5,5.31,5.31,0,0,0,4.9,4.9,5.31,5.31,0,0,0,6.5,1,5.31,5.31,0,0,0,8.1,4.9,5.31,5.31,0,0,0,12,6.5,5.46,5.46,0,0,0,6.5,12Z\"/>\n",
              "  </svg>\n",
              "    </button>\n",
              "    <script>\n",
              "      (() => {\n",
              "      const buttonEl =\n",
              "        document.querySelector('#id_b1d4831c-7894-4d57-a410-d6113e69cf48 button.colab-df-generate');\n",
              "      buttonEl.style.display =\n",
              "        google.colab.kernel.accessAllowed ? 'block' : 'none';\n",
              "\n",
              "      buttonEl.onclick = () => {\n",
              "        google.colab.notebook.generateWithVariable('df');\n",
              "      }\n",
              "      })();\n",
              "    </script>\n",
              "  </div>\n",
              "\n",
              "    </div>\n",
              "  </div>\n"
            ],
            "application/vnd.google.colaboratory.intrinsic+json": {
              "type": "dataframe",
              "variable_name": "df",
              "summary": "{\n  \"name\": \"df\",\n  \"rows\": 1155,\n  \"fields\": [\n    {\n      \"column\": \"START_DATE\",\n      \"properties\": {\n        \"dtype\": \"date\",\n        \"min\": \"2016-01-01 21:11:00\",\n        \"max\": \"2016-12-31 22:08:00\",\n        \"num_unique_values\": 1154,\n        \"samples\": [\n          \"2016-09-20 11:29:00\",\n          \"2016-06-24 12:19:00\",\n          \"2016-10-06 17:23:00\"\n        ],\n        \"semantic_type\": \"\",\n        \"description\": \"\"\n      }\n    },\n    {\n      \"column\": \"END_DATE\",\n      \"properties\": {\n        \"dtype\": \"date\",\n        \"min\": \"2016-01-01 21:17:00\",\n        \"max\": \"2016-12-31 23:51:00\",\n        \"num_unique_values\": 1154,\n        \"samples\": [\n          \"2016-09-20 11:48:00\",\n          \"2016-06-24 12:37:00\",\n          \"2016-10-06 17:40:00\"\n        ],\n        \"semantic_type\": \"\",\n        \"description\": \"\"\n      }\n    },\n    {\n      \"column\": \"CATEGORY\",\n      \"properties\": {\n        \"dtype\": \"category\",\n        \"num_unique_values\": 2,\n        \"samples\": [\n          \"Personal\",\n          \"Business\"\n        ],\n        \"semantic_type\": \"\",\n        \"description\": \"\"\n      }\n    },\n    {\n      \"column\": \"START\",\n      \"properties\": {\n        \"dtype\": \"category\",\n        \"num_unique_values\": 177,\n        \"samples\": [\n          \"Farmington Woods\",\n          \"Westpark Place\"\n        ],\n        \"semantic_type\": \"\",\n        \"description\": \"\"\n      }\n    },\n    {\n      \"column\": \"STOP\",\n      \"properties\": {\n        \"dtype\": \"category\",\n        \"num_unique_values\": 188,\n        \"samples\": [\n          \"Fuquay-Varina\",\n          \"Bryson City\"\n        ],\n        \"semantic_type\": \"\",\n        \"description\": \"\"\n      }\n    },\n    {\n      \"column\": \"MILES\",\n      \"properties\": {\n        \"dtype\": \"number\",\n        \"std\": 21.57910561006012,\n        \"min\": 0.5,\n        \"max\": 310.3,\n        \"num_unique_values\": 256,\n        \"samples\": [\n          28.2,\n          7.1\n        ],\n        \"semantic_type\": \"\",\n        \"description\": \"\"\n      }\n    },\n    {\n      \"column\": \"PURPOSE\",\n      \"properties\": {\n        \"dtype\": \"category\",\n        \"num_unique_values\": 10,\n        \"samples\": [\n          \"Moving\",\n          \"Errand/Supplies\"\n        ],\n        \"semantic_type\": \"\",\n        \"description\": \"\"\n      }\n    },\n    {\n      \"column\": \"DURATION\",\n      \"properties\": {\n        \"dtype\": \"number\",\n        \"std\": 27.318276769689714,\n        \"min\": 0.0,\n        \"max\": 336.0,\n        \"num_unique_values\": 99,\n        \"samples\": [\n          143.0,\n          65.0\n        ],\n        \"semantic_type\": \"\",\n        \"description\": \"\"\n      }\n    }\n  ]\n}"
            }
          },
          "metadata": {},
          "execution_count": 27
        }
      ]
    },
    {
      "cell_type": "code",
      "source": [
        "df['CATEGORY'].unique()"
      ],
      "metadata": {
        "colab": {
          "base_uri": "https://localhost:8080/"
        },
        "id": "4Y6KbEAHARG_",
        "outputId": "38a877c4-9653-4c49-df91-12c91adef50a"
      },
      "execution_count": 28,
      "outputs": [
        {
          "output_type": "execute_result",
          "data": {
            "text/plain": [
              "array(['Business', 'Personal'], dtype=object)"
            ]
          },
          "metadata": {},
          "execution_count": 28
        }
      ]
    },
    {
      "cell_type": "code",
      "source": [
        "df['CATEGORY'].value_counts().plot(kind= 'bar')"
      ],
      "metadata": {
        "colab": {
          "base_uri": "https://localhost:8080/",
          "height": 513
        },
        "id": "l2twoA3MBYXa",
        "outputId": "b4d7d946-395e-45b2-fc68-a647ab88cd3f"
      },
      "execution_count": 29,
      "outputs": [
        {
          "output_type": "execute_result",
          "data": {
            "text/plain": [
              "<Axes: xlabel='CATEGORY'>"
            ]
          },
          "metadata": {},
          "execution_count": 29
        },
        {
          "output_type": "display_data",
          "data": {
            "text/plain": [
              "<Figure size 640x480 with 1 Axes>"
            ],
            "image/png": "[encoded data removed]"
          },
          "metadata": {}
        }
      ]
    },
    {
      "cell_type": "code",
      "source": [],
      "metadata": {
        "id": "VnDySwPpBq6O"
      },
      "execution_count": null,
      "outputs": []
    },
    {
      "cell_type": "markdown",
      "source": [
        "We can see cleearly that most of the uber trip were for BUSINESS purpose than personal reasons"
      ],
      "metadata": {
        "id": "D3Z9khnsBj4R"
      }
    },
    {
      "cell_type": "code",
      "source": [
        "df['START'].unique()"
      ],
      "metadata": {
        "colab": {
          "base_uri": "https://localhost:8080/"
        },
        "id": "O_zD5s4IBgoQ",
        "outputId": "a3f5e249-ae5b-4253-ea4e-2df0bebd0bdc"
      },
      "execution_count": 30,
      "outputs": [
        {
          "output_type": "execute_result",
          "data": {
            "text/plain": [
              "array(['Fort Pierce', 'West Palm Beach', 'Cary', 'Jamaica', 'New York',\n",
              "       'Elmhurst', 'Midtown', 'East Harlem', 'Flatiron District',\n",
              "       'Midtown East', 'Hudson Square', 'Lower Manhattan',\n",
              "       \"Hell's Kitchen\", 'Downtown', 'Gulfton', 'Houston', 'Eagan Park',\n",
              "       'Morrisville', 'Durham', 'Farmington Woods', 'Whitebridge',\n",
              "       'Lake Wellingborough', 'Fayetteville Street', 'Raleigh',\n",
              "       'Hazelwood', 'Fairmont', 'Meredith Townes', 'Apex', 'Chapel Hill',\n",
              "       'Northwoods', 'Edgehill Farms', 'Tanglewood', 'Preston',\n",
              "       'Eastgate', 'East Elmhurst', 'Jackson Heights', 'Long Island City',\n",
              "       'Katunayaka', 'Unknown Location', 'Colombo', 'Nugegoda',\n",
              "       'Islamabad', 'R?walpindi', 'Noorpur Shahan', 'Heritage Pines',\n",
              "       'Westpark Place', 'Waverly Place', 'Wayne Ridge', 'Weston',\n",
              "       'East Austin', 'West University', 'South Congress', 'The Drag',\n",
              "       'Congress Ave District', 'Red River District', 'Georgian Acres',\n",
              "       'North Austin', 'Coxville', 'Convention Center District', 'Austin',\n",
              "       'Katy', 'Sharpstown', 'Sugar Land', 'Galveston', 'Port Bolivar',\n",
              "       'Washington Avenue', 'Briar Meadow', 'Latta', 'Jacksonville',\n",
              "       'Couples Glen', 'Kissimmee', 'Lake Reams', 'Orlando',\n",
              "       'Sand Lake Commons', 'Sky Lake', 'Daytona Beach', 'Ridgeland',\n",
              "       'Florence', 'Meredith', 'Holly Springs', 'Chessington', 'Burtrose',\n",
              "       'Parkway', 'Mcvan', 'Capitol One', 'University District',\n",
              "       'Seattle', 'Redmond', 'Bellevue', 'San Francisco', 'Palo Alto',\n",
              "       'Sunnyvale', 'Newark', 'Menlo Park', 'Old City', 'Savon Height',\n",
              "       'Kilarney Woods', 'Townes at Everett Crossing', 'Huntington Woods',\n",
              "       'Seaport', 'Medical Centre', 'Rose Hill', 'Soho', 'Tribeca',\n",
              "       'Financial District', 'Oakland', 'Emeryville', 'Berkeley',\n",
              "       'Kenner', 'CBD', 'Lower Garden District', 'Lakeview', 'Storyville',\n",
              "       'New Orleans', 'Metairie', 'Chalmette', 'Arabi',\n",
              "       'Pontchartrain Shores', 'Marigny', 'Covington', 'Mandeville',\n",
              "       'Jamestown Court', 'Summerwinds', 'Parkwood',\n",
              "       'Pontchartrain Beach', 'St Thomas', 'Banner Elk', 'Elk Park',\n",
              "       'Newland', 'Boone', 'Stonewater', 'Lexington Park at Amberly',\n",
              "       'Arlington Park at Amberly', 'Arlington', 'Kalorama Triangle',\n",
              "       'K Street', 'West End', 'Connecticut Avenue', 'Columbia Heights',\n",
              "       'Washington', 'Wake Forest', 'Lahore', 'Karachi', 'SOMISSPO',\n",
              "       'West Berkeley', 'North Berkeley Hills', 'San Jose', 'Eagle Rock',\n",
              "       'Winston Salem', 'Asheville', 'Topton', 'Hayesville',\n",
              "       'Bryson City', 'Almond', 'Mebane', 'Agnew', 'Cory', 'Renaissance',\n",
              "       'Santa Clara', 'NOMA', 'Sunnyside', 'Ingleside', 'Central',\n",
              "       'Tenderloin', 'College Avenue', 'South', 'Southside',\n",
              "       'South Berkeley', 'Mountain View', 'El Cerrito', 'Krendle Woods',\n",
              "       'Wake Co.', 'Fuquay-Varina', 'Rawalpindi', 'Kar?chi', 'Katunayake',\n",
              "       'Gampaha'], dtype=object)"
            ]
          },
          "metadata": {},
          "execution_count": 30
        }
      ]
    },
    {
      "cell_type": "code",
      "source": [
        "df['START'].value_counts()"
      ],
      "metadata": {
        "colab": {
          "base_uri": "https://localhost:8080/",
          "height": 490
        },
        "id": "bmrLEiCiB3JJ",
        "outputId": "f27f606a-1a47-4646-d71c-eb84282179b9"
      },
      "execution_count": 31,
      "outputs": [
        {
          "output_type": "execute_result",
          "data": {
            "text/plain": [
              "START\n",
              "Cary                201\n",
              "Unknown Location    148\n",
              "Morrisville          85\n",
              "Whitebridge          68\n",
              "Islamabad            57\n",
              "                   ... \n",
              "Florence              1\n",
              "Ridgeland             1\n",
              "Daytona Beach         1\n",
              "Sky Lake              1\n",
              "Gampaha               1\n",
              "Name: count, Length: 177, dtype: int64"
            ],
            "text/html": [
              "<div>\n",
              "<style scoped>\n",
              "    .dataframe tbody tr th:only-of-type {\n",
              "        vertical-align: middle;\n",
              "    }\n",
              "\n",
              "    .dataframe tbody tr th {\n",
              "        vertical-align: top;\n",
              "    }\n",
              "\n",
              "    .dataframe thead th {\n",
              "        text-align: right;\n",
              "    }\n",
              "</style>\n",
              "<table border=\"1\" class=\"dataframe\">\n",
              "  <thead>\n",
              "    <tr style=\"text-align: right;\">\n",
              "      <th></th>\n",
              "      <th>count</th>\n",
              "    </tr>\n",
              "    <tr>\n",
              "      <th>START</th>\n",
              "      <th></th>\n",
              "    </tr>\n",
              "  </thead>\n",
              "  <tbody>\n",
              "    <tr>\n",
              "      <th>Cary</th>\n",
              "      <td>201</td>\n",
              "    </tr>\n",
              "    <tr>\n",
              "      <th>Unknown Location</th>\n",
              "      <td>148</td>\n",
              "    </tr>\n",
              "    <tr>\n",
              "      <th>Morrisville</th>\n",
              "      <td>85</td>\n",
              "    </tr>\n",
              "    <tr>\n",
              "      <th>Whitebridge</th>\n",
              "      <td>68</td>\n",
              "    </tr>\n",
              "    <tr>\n",
              "      <th>Islamabad</th>\n",
              "      <td>57</td>\n",
              "    </tr>\n",
              "    <tr>\n",
              "      <th>...</th>\n",
              "      <td>...</td>\n",
              "    </tr>\n",
              "    <tr>\n",
              "      <th>Florence</th>\n",
              "      <td>1</td>\n",
              "    </tr>\n",
              "    <tr>\n",
              "      <th>Ridgeland</th>\n",
              "      <td>1</td>\n",
              "    </tr>\n",
              "    <tr>\n",
              "      <th>Daytona Beach</th>\n",
              "      <td>1</td>\n",
              "    </tr>\n",
              "    <tr>\n",
              "      <th>Sky Lake</th>\n",
              "      <td>1</td>\n",
              "    </tr>\n",
              "    <tr>\n",
              "      <th>Gampaha</th>\n",
              "      <td>1</td>\n",
              "    </tr>\n",
              "  </tbody>\n",
              "</table>\n",
              "<p>177 rows × 1 columns</p>\n",
              "</div><br><label><b>dtype:</b> int64</label>"
            ]
          },
          "metadata": {},
          "execution_count": 31
        }
      ]
    },
    {
      "cell_type": "code",
      "source": [
        "df['START'].value_counts().head(5).plot(kind = 'bar')"
      ],
      "metadata": {
        "colab": {
          "base_uri": "https://localhost:8080/",
          "height": 580
        },
        "id": "EclkUmapB_uZ",
        "outputId": "e256187b-1541-4ed4-e82b-27b05c12a1ba"
      },
      "execution_count": 33,
      "outputs": [
        {
          "output_type": "execute_result",
          "data": {
            "text/plain": [
              "<Axes: xlabel='START'>"
            ]
          },
          "metadata": {},
          "execution_count": 33
        },
        {
          "output_type": "display_data",
          "data": {
            "text/plain": [
              "<Figure size 640x480 with 1 Axes>"
            ],
            "image/png": "[encoded data removed]"
          },
          "metadata": {}
        }
      ]
    },
    {
      "cell_type": "markdown",
      "source": [
        "From the above graph we can see that most of the TRIPS started from 'CARY' location , followed by unkown location , followed by , MORRISVILLE , WHITEBRIDGE , Islamabad"
      ],
      "metadata": {
        "id": "C9SdffWPCVes"
      }
    },
    {
      "cell_type": "code",
      "source": [
        "df['STOP'].value_counts()"
      ],
      "metadata": {
        "colab": {
          "base_uri": "https://localhost:8080/",
          "height": 490
        },
        "id": "TI5tdSFKCL1K",
        "outputId": "9109b88d-6f00-4ef9-b60a-382a73b63740"
      },
      "execution_count": 34,
      "outputs": [
        {
          "output_type": "execute_result",
          "data": {
            "text/plain": [
              "STOP\n",
              "Cary                 203\n",
              "Unknown Location     149\n",
              "Morrisville           84\n",
              "Whitebridge           65\n",
              "Islamabad             58\n",
              "                    ... \n",
              "Daytona Beach          1\n",
              "Sand Lake Commons      1\n",
              "Sky Lake               1\n",
              "Vista East             1\n",
              "Ilukwatta              1\n",
              "Name: count, Length: 188, dtype: int64"
            ],
            "text/html": [
              "<div>\n",
              "<style scoped>\n",
              "    .dataframe tbody tr th:only-of-type {\n",
              "        vertical-align: middle;\n",
              "    }\n",
              "\n",
              "    .dataframe tbody tr th {\n",
              "        vertical-align: top;\n",
              "    }\n",
              "\n",
              "    .dataframe thead th {\n",
              "        text-align: right;\n",
              "    }\n",
              "</style>\n",
              "<table border=\"1\" class=\"dataframe\">\n",
              "  <thead>\n",
              "    <tr style=\"text-align: right;\">\n",
              "      <th></th>\n",
              "      <th>count</th>\n",
              "    </tr>\n",
              "    <tr>\n",
              "      <th>STOP</th>\n",
              "      <th></th>\n",
              "    </tr>\n",
              "  </thead>\n",
              "  <tbody>\n",
              "    <tr>\n",
              "      <th>Cary</th>\n",
              "      <td>203</td>\n",
              "    </tr>\n",
              "    <tr>\n",
              "      <th>Unknown Location</th>\n",
              "      <td>149</td>\n",
              "    </tr>\n",
              "    <tr>\n",
              "      <th>Morrisville</th>\n",
              "      <td>84</td>\n",
              "    </tr>\n",
              "    <tr>\n",
              "      <th>Whitebridge</th>\n",
              "      <td>65</td>\n",
              "    </tr>\n",
              "    <tr>\n",
              "      <th>Islamabad</th>\n",
              "      <td>58</td>\n",
              "    </tr>\n",
              "    <tr>\n",
              "      <th>...</th>\n",
              "      <td>...</td>\n",
              "    </tr>\n",
              "    <tr>\n",
              "      <th>Daytona Beach</th>\n",
              "      <td>1</td>\n",
              "    </tr>\n",
              "    <tr>\n",
              "      <th>Sand Lake Commons</th>\n",
              "      <td>1</td>\n",
              "    </tr>\n",
              "    <tr>\n",
              "      <th>Sky Lake</th>\n",
              "      <td>1</td>\n",
              "    </tr>\n",
              "    <tr>\n",
              "      <th>Vista East</th>\n",
              "      <td>1</td>\n",
              "    </tr>\n",
              "    <tr>\n",
              "      <th>Ilukwatta</th>\n",
              "      <td>1</td>\n",
              "    </tr>\n",
              "  </tbody>\n",
              "</table>\n",
              "<p>188 rows × 1 columns</p>\n",
              "</div><br><label><b>dtype:</b> int64</label>"
            ]
          },
          "metadata": {},
          "execution_count": 34
        }
      ]
    },
    {
      "cell_type": "code",
      "source": [
        "df['STOP'].value_counts().head(5).plot(kind='bar')"
      ],
      "metadata": {
        "colab": {
          "base_uri": "https://localhost:8080/",
          "height": 580
        },
        "id": "oi9uFcmHC1-W",
        "outputId": "b8d448d9-1966-468f-98c9-1b110894728a"
      },
      "execution_count": 36,
      "outputs": [
        {
          "output_type": "execute_result",
          "data": {
            "text/plain": [
              "<Axes: xlabel='STOP'>"
            ]
          },
          "metadata": {},
          "execution_count": 36
        },
        {
          "output_type": "display_data",
          "data": {
            "text/plain": [
              "<Figure size 640x480 with 1 Axes>"
            ],
            "image/png": "[encoded data removed]"
          },
          "metadata": {}
        }
      ]
    },
    {
      "cell_type": "markdown",
      "source": [
        "We can see that most of the STOPPAGES were at 'CARY' , then unknown locations , MORRISVILLE , WHITEBRIDGE , ISLAMABAD"
      ],
      "metadata": {
        "id": "BCf3A9zTDGXo"
      }
    },
    {
      "cell_type": "code",
      "source": [
        "df"
      ],
      "metadata": {
        "colab": {
          "base_uri": "https://localhost:8080/",
          "height": 597
        },
        "id": "A4xGYO3EDATO",
        "outputId": "ab128673-0e1e-4967-c11f-57197e2ca4ba"
      },
      "execution_count": 37,
      "outputs": [
        {
          "output_type": "execute_result",
          "data": {
            "text/plain": [
              "              START_DATE            END_DATE  CATEGORY             START  \\\n",
              "0    2016-01-01 21:11:00 2016-01-01 21:17:00  Business       Fort Pierce   \n",
              "1    2016-01-02 01:25:00 2016-01-02 01:37:00  Business       Fort Pierce   \n",
              "2    2016-01-02 20:25:00 2016-01-02 20:38:00  Business       Fort Pierce   \n",
              "3    2016-01-05 17:31:00 2016-01-05 17:45:00  Business       Fort Pierce   \n",
              "4    2016-01-06 14:42:00 2016-01-06 15:49:00  Business       Fort Pierce   \n",
              "...                  ...                 ...       ...               ...   \n",
              "1150 2016-12-31 01:07:00 2016-12-31 01:14:00  Business           Kar?chi   \n",
              "1151 2016-12-31 13:24:00 2016-12-31 13:42:00  Business           Kar?chi   \n",
              "1152 2016-12-31 15:03:00 2016-12-31 15:38:00  Business  Unknown Location   \n",
              "1153 2016-12-31 21:32:00 2016-12-31 21:50:00  Business        Katunayake   \n",
              "1154 2016-12-31 22:08:00 2016-12-31 23:51:00  Business           Gampaha   \n",
              "\n",
              "                  STOP  MILES          PURPOSE  DURATION  \n",
              "0          Fort Pierce    5.1   Meal/Entertain       6.0  \n",
              "1          Fort Pierce    5.0              NaN      12.0  \n",
              "2          Fort Pierce    4.8  Errand/Supplies      13.0  \n",
              "3          Fort Pierce    4.7          Meeting      14.0  \n",
              "4      West Palm Beach   63.7   Customer Visit      67.0  \n",
              "...                ...    ...              ...       ...  \n",
              "1150           Kar?chi    0.7          Meeting       7.0  \n",
              "1151  Unknown Location    3.9   Temporary Site      18.0  \n",
              "1152  Unknown Location   16.2          Meeting      35.0  \n",
              "1153           Gampaha    6.4   Temporary Site      18.0  \n",
              "1154         Ilukwatta   48.2   Temporary Site     103.0  \n",
              "\n",
              "[1155 rows x 8 columns]"
            ],
            "text/html": [
              "\n",
              "  <div id=\"df-26877d6a-f45d-4451-b14e-f245286c5d4d\" class=\"colab-df-container\">\n",
              "    <div>\n",
              "<style scoped>\n",
              "    .dataframe tbody tr th:only-of-type {\n",
              "        vertical-align: middle;\n",
              "    }\n",
              "\n",
              "    .dataframe tbody tr th {\n",
              "        vertical-align: top;\n",
              "    }\n",
              "\n",
              "    .dataframe thead th {\n",
              "        text-align: right;\n",
              "    }\n",
              "</style>\n",
              "<table border=\"1\" class=\"dataframe\">\n",
              "  <thead>\n",
              "    <tr style=\"text-align: right;\">\n",
              "      <th></th>\n",
              "      <th>START_DATE</th>\n",
              "      <th>END_DATE</th>\n",
              "      <th>CATEGORY</th>\n",
              "      <th>START</th>\n",
              "      <th>STOP</th>\n",
              "      <th>MILES</th>\n",
              "      <th>PURPOSE</th>\n",
              "      <th>DURATION</th>\n",
              "    </tr>\n",
              "  </thead>\n",
              "  <tbody>\n",
              "    <tr>\n",
              "      <th>0</th>\n",
              "      <td>2016-01-01 21:11:00</td>\n",
              "      <td>2016-01-01 21:17:00</td>\n",
              "      <td>Business</td>\n",
              "      <td>Fort Pierce</td>\n",
              "      <td>Fort Pierce</td>\n",
              "      <td>5.1</td>\n",
              "      <td>Meal/Entertain</td>\n",
              "      <td>6.0</td>\n",
              "    </tr>\n",
              "    <tr>\n",
              "      <th>1</th>\n",
              "      <td>2016-01-02 01:25:00</td>\n",
              "      <td>2016-01-02 01:37:00</td>\n",
              "      <td>Business</td>\n",
              "      <td>Fort Pierce</td>\n",
              "      <td>Fort Pierce</td>\n",
              "      <td>5.0</td>\n",
              "      <td>NaN</td>\n",
              "      <td>12.0</td>\n",
              "    </tr>\n",
              "    <tr>\n",
              "      <th>2</th>\n",
              "      <td>2016-01-02 20:25:00</td>\n",
              "      <td>2016-01-02 20:38:00</td>\n",
              "      <td>Business</td>\n",
              "      <td>Fort Pierce</td>\n",
              "      <td>Fort Pierce</td>\n",
              "      <td>4.8</td>\n",
              "      <td>Errand/Supplies</td>\n",
              "      <td>13.0</td>\n",
              "    </tr>\n",
              "    <tr>\n",
              "      <th>3</th>\n",
              "      <td>2016-01-05 17:31:00</td>\n",
              "      <td>2016-01-05 17:45:00</td>\n",
              "      <td>Business</td>\n",
              "      <td>Fort Pierce</td>\n",
              "      <td>Fort Pierce</td>\n",
              "      <td>4.7</td>\n",
              "      <td>Meeting</td>\n",
              "      <td>14.0</td>\n",
              "    </tr>\n",
              "    <tr>\n",
              "      <th>4</th>\n",
              "      <td>2016-01-06 14:42:00</td>\n",
              "      <td>2016-01-06 15:49:00</td>\n",
              "      <td>Business</td>\n",
              "      <td>Fort Pierce</td>\n",
              "      <td>West Palm Beach</td>\n",
              "      <td>63.7</td>\n",
              "      <td>Customer Visit</td>\n",
              "      <td>67.0</td>\n",
              "    </tr>\n",
              "    <tr>\n",
              "      <th>...</th>\n",
              "      <td>...</td>\n",
              "      <td>...</td>\n",
              "      <td>...</td>\n",
              "      <td>...</td>\n",
              "      <td>...</td>\n",
              "      <td>...</td>\n",
              "      <td>...</td>\n",
              "      <td>...</td>\n",
              "    </tr>\n",
              "    <tr>\n",
              "      <th>1150</th>\n",
              "      <td>2016-12-31 01:07:00</td>\n",
              "      <td>2016-12-31 01:14:00</td>\n",
              "      <td>Business</td>\n",
              "      <td>Kar?chi</td>\n",
              "      <td>Kar?chi</td>\n",
              "      <td>0.7</td>\n",
              "      <td>Meeting</td>\n",
              "      <td>7.0</td>\n",
              "    </tr>\n",
              "    <tr>\n",
              "      <th>1151</th>\n",
              "      <td>2016-12-31 13:24:00</td>\n",
              "      <td>2016-12-31 13:42:00</td>\n",
              "      <td>Business</td>\n",
              "      <td>Kar?chi</td>\n",
              "      <td>Unknown Location</td>\n",
              "      <td>3.9</td>\n",
              "      <td>Temporary Site</td>\n",
              "      <td>18.0</td>\n",
              "    </tr>\n",
              "    <tr>\n",
              "      <th>1152</th>\n",
              "      <td>2016-12-31 15:03:00</td>\n",
              "      <td>2016-12-31 15:38:00</td>\n",
              "      <td>Business</td>\n",
              "      <td>Unknown Location</td>\n",
              "      <td>Unknown Location</td>\n",
              "      <td>16.2</td>\n",
              "      <td>Meeting</td>\n",
              "      <td>35.0</td>\n",
              "    </tr>\n",
              "    <tr>\n",
              "      <th>1153</th>\n",
              "      <td>2016-12-31 21:32:00</td>\n",
              "      <td>2016-12-31 21:50:00</td>\n",
              "      <td>Business</td>\n",
              "      <td>Katunayake</td>\n",
              "      <td>Gampaha</td>\n",
              "      <td>6.4</td>\n",
              "      <td>Temporary Site</td>\n",
              "      <td>18.0</td>\n",
              "    </tr>\n",
              "    <tr>\n",
              "      <th>1154</th>\n",
              "      <td>2016-12-31 22:08:00</td>\n",
              "      <td>2016-12-31 23:51:00</td>\n",
              "      <td>Business</td>\n",
              "      <td>Gampaha</td>\n",
              "      <td>Ilukwatta</td>\n",
              "      <td>48.2</td>\n",
              "      <td>Temporary Site</td>\n",
              "      <td>103.0</td>\n",
              "    </tr>\n",
              "  </tbody>\n",
              "</table>\n",
              "<p>1155 rows × 8 columns</p>\n",
              "</div>\n",
              "    <div class=\"colab-df-buttons\">\n",
              "\n",
              "  <div class=\"colab-df-container\">\n",
              "    <button class=\"colab-df-convert\" onclick=\"convertToInteractive('df-26877d6a-f45d-4451-b14e-f245286c5d4d')\"\n",
              "            title=\"Convert this dataframe to an interactive table.\"\n",
              "            style=\"display:none;\">\n",
              "\n",
              "  <svg xmlns=\"http://www.w3.org/2000/svg\" height=\"24px\" viewBox=\"0 -960 960 960\">\n",
              "    <path d=\"M120-120v-720h720v720H120Zm60-500h600v-160H180v160Zm220 220h160v-160H400v160Zm0 220h160v-160H400v160ZM180-400h160v-160H180v160Zm440 0h160v-160H620v160ZM180-180h160v-160H180v160Zm440 0h160v-160H620v160Z\"/>\n",
              "  </svg>\n",
              "    </button>\n",
              "\n",
              "  <style>\n",
              "    .colab-df-container {\n",
              "      display:flex;\n",
              "      gap: 12px;\n",
              "    }\n",
              "\n",
              "    .colab-df-convert {\n",
              "      background-color: #E8F0FE;\n",
              "      border: none;\n",
              "      border-radius: 50%;\n",
              "      cursor: pointer;\n",
              "      display: none;\n",
              "      fill: #1967D2;\n",
              "      height: 32px;\n",
              "      padding: 0 0 0 0;\n",
              "      width: 32px;\n",
              "    }\n",
              "\n",
              "    .colab-df-convert:hover {\n",
              "      background-color: #E2EBFA;\n",
              "      box-shadow: 0px 1px 2px rgba(60, 64, 67, 0.3), 0px 1px 3px 1px rgba(60, 64, 67, 0.15);\n",
              "      fill: #174EA6;\n",
              "    }\n",
              "\n",
              "    .colab-df-buttons div {\n",
              "      margin-bottom: 4px;\n",
              "    }\n",
              "\n",
              "    [theme=dark] .colab-df-convert {\n",
              "      background-color: #3B4455;\n",
              "      fill: #D2E3FC;\n",
              "    }\n",
              "\n",
              "    [theme=dark] .colab-df-convert:hover {\n",
              "      background-color: #434B5C;\n",
              "      box-shadow: 0px 1px 3px 1px rgba(0, 0, 0, 0.15);\n",
              "      filter: drop-shadow(0px 1px 2px rgba(0, 0, 0, 0.3));\n",
              "      fill: #FFFFFF;\n",
              "    }\n",
              "  </style>\n",
              "\n",
              "    <script>\n",
              "      const buttonEl =\n",
              "        document.querySelector('#df-26877d6a-f45d-4451-b14e-f245286c5d4d button.colab-df-convert');\n",
              "      buttonEl.style.display =\n",
              "        google.colab.kernel.accessAllowed ? 'block' : 'none';\n",
              "\n",
              "      async function convertToInteractive(key) {\n",
              "        const element = document.querySelector('#df-26877d6a-f45d-4451-b14e-f245286c5d4d');\n",
              "        const dataTable =\n",
              "          await google.colab.kernel.invokeFunction('convertToInteractive',\n",
              "                                                    [key], {});\n",
              "        if (!dataTable) return;\n",
              "\n",
              "        const docLinkHtml = 'Like what you see? Visit the ' +\n",
              "          '<a target=\"_blank\" href=https://colab.research.google.com/notebooks/data_table.ipynb>data table notebook</a>'\n",
              "          + ' to learn more about interactive tables.';\n",
              "        element.innerHTML = '';\n",
              "        dataTable['output_type'] = 'display_data';\n",
              "        await google.colab.output.renderOutput(dataTable, element);\n",
              "        const docLink = document.createElement('div');\n",
              "        docLink.innerHTML = docLinkHtml;\n",
              "        element.appendChild(docLink);\n",
              "      }\n",
              "    </script>\n",
              "  </div>\n",
              "\n",
              "\n",
              "<div id=\"df-211f0d8f-0f7f-4db6-9ad4-4e4104c9a53d\">\n",
              "  <button class=\"colab-df-quickchart\" onclick=\"quickchart('df-211f0d8f-0f7f-4db6-9ad4-4e4104c9a53d')\"\n",
              "            title=\"Suggest charts\"\n",
              "            style=\"display:none;\">\n",
              "\n",
              "<svg xmlns=\"http://www.w3.org/2000/svg\" height=\"24px\"viewBox=\"0 0 24 24\"\n",
              "     width=\"24px\">\n",
              "    <g>\n",
              "        <path d=\"M19 3H5c-1.1 0-2 .9-2 2v14c0 1.1.9 2 2 2h14c1.1 0 2-.9 2-2V5c0-1.1-.9-2-2-2zM9 17H7v-7h2v7zm4 0h-2V7h2v10zm4 0h-2v-4h2v4z\"/>\n",
              "    </g>\n",
              "</svg>\n",
              "  </button>\n",
              "\n",
              "<style>\n",
              "  .colab-df-quickchart {\n",
              "      --bg-color: #E8F0FE;\n",
              "      --fill-color: #1967D2;\n",
              "      --hover-bg-color: #E2EBFA;\n",
              "      --hover-fill-color: #174EA6;\n",
              "      --disabled-fill-color: #AAA;\n",
              "      --disabled-bg-color: #DDD;\n",
              "  }\n",
              "\n",
              "  [theme=dark] .colab-df-quickchart {\n",
              "      --bg-color: #3B4455;\n",
              "      --fill-color: #D2E3FC;\n",
              "      --hover-bg-color: #434B5C;\n",
              "      --hover-fill-color: #FFFFFF;\n",
              "      --disabled-bg-color: #3B4455;\n",
              "      --disabled-fill-color: #666;\n",
              "  }\n",
              "\n",
              "  .colab-df-quickchart {\n",
              "    background-color: var(--bg-color);\n",
              "    border: none;\n",
              "    border-radius: 50%;\n",
              "    cursor: pointer;\n",
              "    display: none;\n",
              "    fill: var(--fill-color);\n",
              "    height: 32px;\n",
              "    padding: 0;\n",
              "    width: 32px;\n",
              "  }\n",
              "\n",
              "  .colab-df-quickchart:hover {\n",
              "    background-color: var(--hover-bg-color);\n",
              "    box-shadow: 0 1px 2px rgba(60, 64, 67, 0.3), 0 1px 3px 1px rgba(60, 64, 67, 0.15);\n",
              "    fill: var(--button-hover-fill-color);\n",
              "  }\n",
              "\n",
              "  .colab-df-quickchart-complete:disabled,\n",
              "  .colab-df-quickchart-complete:disabled:hover {\n",
              "    background-color: var(--disabled-bg-color);\n",
              "    fill: var(--disabled-fill-color);\n",
              "    box-shadow: none;\n",
              "  }\n",
              "\n",
              "  .colab-df-spinner {\n",
              "    border: 2px solid var(--fill-color);\n",
              "    border-color: transparent;\n",
              "    border-bottom-color: var(--fill-color);\n",
              "    animation:\n",
              "      spin 1s steps(1) infinite;\n",
              "  }\n",
              "\n",
              "  @keyframes spin {\n",
              "    0% {\n",
              "      border-color: transparent;\n",
              "      border-bottom-color: var(--fill-color);\n",
              "      border-left-color: var(--fill-color);\n",
              "    }\n",
              "    20% {\n",
              "      border-color: transparent;\n",
              "      border-left-color: var(--fill-color);\n",
              "      border-top-color: var(--fill-color);\n",
              "    }\n",
              "    30% {\n",
              "      border-color: transparent;\n",
              "      border-left-color: var(--fill-color);\n",
              "      border-top-color: var(--fill-color);\n",
              "      border-right-color: var(--fill-color);\n",
              "    }\n",
              "    40% {\n",
              "      border-color: transparent;\n",
              "      border-right-color: var(--fill-color);\n",
              "      border-top-color: var(--fill-color);\n",
              "    }\n",
              "    60% {\n",
              "      border-color: transparent;\n",
              "      border-right-color: var(--fill-color);\n",
              "    }\n",
              "    80% {\n",
              "      border-color: transparent;\n",
              "      border-right-color: var(--fill-color);\n",
              "      border-bottom-color: var(--fill-color);\n",
              "    }\n",
              "    90% {\n",
              "      border-color: transparent;\n",
              "      border-bottom-color: var(--fill-color);\n",
              "    }\n",
              "  }\n",
              "</style>\n",
              "\n",
              "  <script>\n",
              "    async function quickchart(key) {\n",
              "      const quickchartButtonEl =\n",
              "        document.querySelector('#' + key + ' button');\n",
              "      quickchartButtonEl.disabled = true;  // To prevent multiple clicks.\n",
              "      quickchartButtonEl.classList.add('colab-df-spinner');\n",
              "      try {\n",
              "        const charts = await google.colab.kernel.invokeFunction(\n",
              "            'suggestCharts', [key], {});\n",
              "      } catch (error) {\n",
              "        console.error('Error during call to suggestCharts:', error);\n",
              "      }\n",
              "      quickchartButtonEl.classList.remove('colab-df-spinner');\n",
              "      quickchartButtonEl.classList.add('colab-df-quickchart-complete');\n",
              "    }\n",
              "    (() => {\n",
              "      let quickchartButtonEl =\n",
              "        document.querySelector('#df-211f0d8f-0f7f-4db6-9ad4-4e4104c9a53d button');\n",
              "      quickchartButtonEl.style.display =\n",
              "        google.colab.kernel.accessAllowed ? 'block' : 'none';\n",
              "    })();\n",
              "  </script>\n",
              "</div>\n",
              "\n",
              "  <div id=\"id_2a90db0d-fa66-4f0d-8609-d27735132fe5\">\n",
              "    <style>\n",
              "      .colab-df-generate {\n",
              "        background-color: #E8F0FE;\n",
              "        border: none;\n",
              "        border-radius: 50%;\n",
              "        cursor: pointer;\n",
              "        display: none;\n",
              "        fill: #1967D2;\n",
              "        height: 32px;\n",
              "        padding: 0 0 0 0;\n",
              "        width: 32px;\n",
              "      }\n",
              "\n",
              "      .colab-df-generate:hover {\n",
              "        background-color: #E2EBFA;\n",
              "        box-shadow: 0px 1px 2px rgba(60, 64, 67, 0.3), 0px 1px 3px 1px rgba(60, 64, 67, 0.15);\n",
              "        fill: #174EA6;\n",
              "      }\n",
              "\n",
              "      [theme=dark] .colab-df-generate {\n",
              "        background-color: #3B4455;\n",
              "        fill: #D2E3FC;\n",
              "      }\n",
              "\n",
              "      [theme=dark] .colab-df-generate:hover {\n",
              "        background-color: #434B5C;\n",
              "        box-shadow: 0px 1px 3px 1px rgba(0, 0, 0, 0.15);\n",
              "        filter: drop-shadow(0px 1px 2px rgba(0, 0, 0, 0.3));\n",
              "        fill: #FFFFFF;\n",
              "      }\n",
              "    </style>\n",
              "    <button class=\"colab-df-generate\" onclick=\"generateWithVariable('df')\"\n",
              "            title=\"Generate code using this dataframe.\"\n",
              "            style=\"display:none;\">\n",
              "\n",
              "  <svg xmlns=\"http://www.w3.org/2000/svg\" height=\"24px\"viewBox=\"0 0 24 24\"\n",
              "       width=\"24px\">\n",
              "    <path d=\"M7,19H8.4L18.45,9,17,7.55,7,17.6ZM5,21V16.75L18.45,3.32a2,2,0,0,1,2.83,0l1.4,1.43a1.91,1.91,0,0,1,.58,1.4,1.91,1.91,0,0,1-.58,1.4L9.25,21ZM18.45,9,17,7.55Zm-12,3A5.31,5.31,0,0,0,4.9,8.1,5.31,5.31,0,0,0,1,6.5,5.31,5.31,0,0,0,4.9,4.9,5.31,5.31,0,0,0,6.5,1,5.31,5.31,0,0,0,8.1,4.9,5.31,5.31,0,0,0,12,6.5,5.46,5.46,0,0,0,6.5,12Z\"/>\n",
              "  </svg>\n",
              "    </button>\n",
              "    <script>\n",
              "      (() => {\n",
              "      const buttonEl =\n",
              "        document.querySelector('#id_2a90db0d-fa66-4f0d-8609-d27735132fe5 button.colab-df-generate');\n",
              "      buttonEl.style.display =\n",
              "        google.colab.kernel.accessAllowed ? 'block' : 'none';\n",
              "\n",
              "      buttonEl.onclick = () => {\n",
              "        google.colab.notebook.generateWithVariable('df');\n",
              "      }\n",
              "      })();\n",
              "    </script>\n",
              "  </div>\n",
              "\n",
              "    </div>\n",
              "  </div>\n"
            ],
            "application/vnd.google.colaboratory.intrinsic+json": {
              "type": "dataframe",
              "variable_name": "df",
              "summary": "{\n  \"name\": \"df\",\n  \"rows\": 1155,\n  \"fields\": [\n    {\n      \"column\": \"START_DATE\",\n      \"properties\": {\n        \"dtype\": \"date\",\n        \"min\": \"2016-01-01 21:11:00\",\n        \"max\": \"2016-12-31 22:08:00\",\n        \"num_unique_values\": 1154,\n        \"samples\": [\n          \"2016-09-20 11:29:00\",\n          \"2016-06-24 12:19:00\",\n          \"2016-10-06 17:23:00\"\n        ],\n        \"semantic_type\": \"\",\n        \"description\": \"\"\n      }\n    },\n    {\n      \"column\": \"END_DATE\",\n      \"properties\": {\n        \"dtype\": \"date\",\n        \"min\": \"2016-01-01 21:17:00\",\n        \"max\": \"2016-12-31 23:51:00\",\n        \"num_unique_values\": 1154,\n        \"samples\": [\n          \"2016-09-20 11:48:00\",\n          \"2016-06-24 12:37:00\",\n          \"2016-10-06 17:40:00\"\n        ],\n        \"semantic_type\": \"\",\n        \"description\": \"\"\n      }\n    },\n    {\n      \"column\": \"CATEGORY\",\n      \"properties\": {\n        \"dtype\": \"category\",\n        \"num_unique_values\": 2,\n        \"samples\": [\n          \"Personal\",\n          \"Business\"\n        ],\n        \"semantic_type\": \"\",\n        \"description\": \"\"\n      }\n    },\n    {\n      \"column\": \"START\",\n      \"properties\": {\n        \"dtype\": \"category\",\n        \"num_unique_values\": 177,\n        \"samples\": [\n          \"Farmington Woods\",\n          \"Westpark Place\"\n        ],\n        \"semantic_type\": \"\",\n        \"description\": \"\"\n      }\n    },\n    {\n      \"column\": \"STOP\",\n      \"properties\": {\n        \"dtype\": \"category\",\n        \"num_unique_values\": 188,\n        \"samples\": [\n          \"Fuquay-Varina\",\n          \"Bryson City\"\n        ],\n        \"semantic_type\": \"\",\n        \"description\": \"\"\n      }\n    },\n    {\n      \"column\": \"MILES\",\n      \"properties\": {\n        \"dtype\": \"number\",\n        \"std\": 21.57910561006012,\n        \"min\": 0.5,\n        \"max\": 310.3,\n        \"num_unique_values\": 256,\n        \"samples\": [\n          28.2,\n          7.1\n        ],\n        \"semantic_type\": \"\",\n        \"description\": \"\"\n      }\n    },\n    {\n      \"column\": \"PURPOSE\",\n      \"properties\": {\n        \"dtype\": \"category\",\n        \"num_unique_values\": 10,\n        \"samples\": [\n          \"Moving\",\n          \"Errand/Supplies\"\n        ],\n        \"semantic_type\": \"\",\n        \"description\": \"\"\n      }\n    },\n    {\n      \"column\": \"DURATION\",\n      \"properties\": {\n        \"dtype\": \"number\",\n        \"std\": 27.318276769689714,\n        \"min\": 0.0,\n        \"max\": 336.0,\n        \"num_unique_values\": 99,\n        \"samples\": [\n          143.0,\n          65.0\n        ],\n        \"semantic_type\": \"\",\n        \"description\": \"\"\n      }\n    }\n  ]\n}"
            }
          },
          "metadata": {},
          "execution_count": 37
        }
      ]
    },
    {
      "cell_type": "code",
      "source": [
        "import matplotlib.pyplot as plt\n",
        "import seaborn as sns\n",
        "sns.histplot(data = df['MILES'] , bins = 20  )\n",
        "plt.xlabel(\"values\")\n",
        "plt.ylabel(\"Frequency\")\n",
        "plt.show()"
      ],
      "metadata": {
        "colab": {
          "base_uri": "https://localhost:8080/",
          "height": 449
        },
        "id": "HqMUDVAPDWfb",
        "outputId": "81e38408-7910-48c2-8157-b521a076fc48"
      },
      "execution_count": 40,
      "outputs": [
        {
          "output_type": "display_data",
          "data": {
            "text/plain": [
              "<Figure size 640x480 with 1 Axes>"
            ],
            "image/png": "[encoded data removed]"
          },
          "metadata": {}
        }
      ]
    },
    {
      "cell_type": "code",
      "source": [
        "df['MILES'].max()"
      ],
      "metadata": {
        "colab": {
          "base_uri": "https://localhost:8080/"
        },
        "id": "RML2Fw8OEKVh",
        "outputId": "d704293f-3e07-431a-a525-4013551b849b"
      },
      "execution_count": 41,
      "outputs": [
        {
          "output_type": "execute_result",
          "data": {
            "text/plain": [
              "310.3"
            ]
          },
          "metadata": {},
          "execution_count": 41
        }
      ]
    },
    {
      "cell_type": "markdown",
      "source": [
        "We can see from above data that most of the trips were of around 0-20 miles"
      ],
      "metadata": {
        "id": "e5Qi3-UuEuRg"
      }
    },
    {
      "cell_type": "code",
      "source": [
        "df['PURPOSE'].unique()"
      ],
      "metadata": {
        "colab": {
          "base_uri": "https://localhost:8080/"
        },
        "id": "nTcQNMVlEkGn",
        "outputId": "51aaf451-4484-4b41-8347-f1a1bbc2ac7d"
      },
      "execution_count": 42,
      "outputs": [
        {
          "output_type": "execute_result",
          "data": {
            "text/plain": [
              "array(['Meal/Entertain', nan, 'Errand/Supplies', 'Meeting',\n",
              "       'Customer Visit', 'Temporary Site', 'Between Offices',\n",
              "       'Charity ($)', 'Commute', 'Moving', 'Airport/Travel'], dtype=object)"
            ]
          },
          "metadata": {},
          "execution_count": 42
        }
      ]
    },
    {
      "cell_type": "code",
      "source": [
        "df['PURPOSE'].value_counts().tail()"
      ],
      "metadata": {
        "colab": {
          "base_uri": "https://localhost:8080/",
          "height": 272
        },
        "id": "QdUaoxQYFZbq",
        "outputId": "2bf7d95b-c33b-4f40-dc8c-cde33a22ecd0"
      },
      "execution_count": 44,
      "outputs": [
        {
          "output_type": "execute_result",
          "data": {
            "text/plain": [
              "PURPOSE\n",
              "Between Offices    18\n",
              "Moving              4\n",
              "Airport/Travel      3\n",
              "Charity ($)         1\n",
              "Commute             1\n",
              "Name: count, dtype: int64"
            ],
            "text/html": [
              "<div>\n",
              "<style scoped>\n",
              "    .dataframe tbody tr th:only-of-type {\n",
              "        vertical-align: middle;\n",
              "    }\n",
              "\n",
              "    .dataframe tbody tr th {\n",
              "        vertical-align: top;\n",
              "    }\n",
              "\n",
              "    .dataframe thead th {\n",
              "        text-align: right;\n",
              "    }\n",
              "</style>\n",
              "<table border=\"1\" class=\"dataframe\">\n",
              "  <thead>\n",
              "    <tr style=\"text-align: right;\">\n",
              "      <th></th>\n",
              "      <th>count</th>\n",
              "    </tr>\n",
              "    <tr>\n",
              "      <th>PURPOSE</th>\n",
              "      <th></th>\n",
              "    </tr>\n",
              "  </thead>\n",
              "  <tbody>\n",
              "    <tr>\n",
              "      <th>Between Offices</th>\n",
              "      <td>18</td>\n",
              "    </tr>\n",
              "    <tr>\n",
              "      <th>Moving</th>\n",
              "      <td>4</td>\n",
              "    </tr>\n",
              "    <tr>\n",
              "      <th>Airport/Travel</th>\n",
              "      <td>3</td>\n",
              "    </tr>\n",
              "    <tr>\n",
              "      <th>Charity ($)</th>\n",
              "      <td>1</td>\n",
              "    </tr>\n",
              "    <tr>\n",
              "      <th>Commute</th>\n",
              "      <td>1</td>\n",
              "    </tr>\n",
              "  </tbody>\n",
              "</table>\n",
              "</div><br><label><b>dtype:</b> int64</label>"
            ]
          },
          "metadata": {},
          "execution_count": 44
        }
      ]
    },
    {
      "cell_type": "code",
      "source": [
        "df['PURPOSE'].value_counts().head(5).plot(kind = 'bar')"
      ],
      "metadata": {
        "colab": {
          "base_uri": "https://localhost:8080/",
          "height": 562
        },
        "id": "WDBFRwPdFCzG",
        "outputId": "120e5592-230e-4e1d-98c5-63cb97a1fa1f"
      },
      "execution_count": 43,
      "outputs": [
        {
          "output_type": "execute_result",
          "data": {
            "text/plain": [
              "<Axes: xlabel='PURPOSE'>"
            ]
          },
          "metadata": {},
          "execution_count": 43
        },
        {
          "output_type": "display_data",
          "data": {
            "text/plain": [
              "<Figure size 640x480 with 1 Axes>"
            ],
            "image/png": "[encoded data removed]"
          },
          "metadata": {}
        }
      ]
    },
    {
      "cell_type": "markdown",
      "source": [
        "The purpose for max  trips was \" MEETINGS \" ,  2) MEAL/ ENTERTAIN  3) ERRAND/SUPPLIES  and the min for  \" CHARITY \" or  \" COMMUTE \" purpose"
      ],
      "metadata": {
        "id": "K82pX43FFONu"
      }
    },
    {
      "cell_type": "code",
      "source": [
        "sns.scatterplot(x = df['MILES'] , y = df['DURATION'])"
      ],
      "metadata": {
        "colab": {
          "base_uri": "https://localhost:8080/",
          "height": 469
        },
        "id": "fE0N7txKGWbF",
        "outputId": "26e1060e-4b6c-4cd5-ef72-39baf419af1a"
      },
      "execution_count": 49,
      "outputs": [
        {
          "output_type": "execute_result",
          "data": {
            "text/plain": [
              "<Axes: xlabel='MILES', ylabel='DURATION'>"
            ]
          },
          "metadata": {},
          "execution_count": 49
        },
        {
          "output_type": "display_data",
          "data": {
            "text/plain": [
              "<Figure size 640x480 with 1 Axes>"
            ],
            "image/png": "[encoded data removed]"
          },
          "metadata": {}
        }
      ]
    },
    {
      "cell_type": "code",
      "source": [],
      "metadata": {
        "id": "iAKVIxV2HsIz"
      },
      "execution_count": null,
      "outputs": []
    }
  ]
}